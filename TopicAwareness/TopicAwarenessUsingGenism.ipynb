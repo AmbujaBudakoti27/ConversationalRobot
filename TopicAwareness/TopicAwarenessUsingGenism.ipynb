{
  "nbformat": 4,
  "nbformat_minor": 0,
  "metadata": {
    "colab": {
      "name": "Genism.ipynb",
      "provenance": []
    },
    "kernelspec": {
      "name": "python3",
      "display_name": "Python 3"
    }
  },
  "cells": [
    {
      "cell_type": "markdown",
      "metadata": {
        "id": "LOEiNmI7-rRx",
        "colab_type": "text"
      },
      "source": [
        "We will learn how to identity which topic is discussed in a document, called topic modelling. In particular, we will cover Latent Dirichlet Allocation (LDA): a widely used topic modelling technique. And we will apply LDA to convert set of research papers to a set of topics."
      ]
    },
    {
      "cell_type": "code",
      "metadata": {
        "id": "lotDVidk-GVs",
        "colab_type": "code",
        "colab": {
          "base_uri": "https://localhost:8080/",
          "height": 202
        },
        "outputId": "22f4bd45-f0b8-44c0-a740-c755fc1a06b4"
      },
      "source": [
        "!wget https://github.com/susanli2016/Machine-Learning-with-Python/blob/master/dataset.csv"
      ],
      "execution_count": 8,
      "outputs": [
        {
          "output_type": "stream",
          "text": [
            "--2020-07-01 15:22:15--  https://github.com/susanli2016/Machine-Learning-with-Python/blob/master/dataset.csv\n",
            "Resolving github.com (github.com)... 140.82.113.3\n",
            "Connecting to github.com (github.com)|140.82.113.3|:443... connected.\n",
            "HTTP request sent, awaiting response... 200 OK\n",
            "Length: unspecified [text/html]\n",
            "Saving to: ‘dataset.csv’\n",
            "\n",
            "dataset.csv             [    <=>             ] 672.03K   764KB/s    in 0.9s    \n",
            "\n",
            "2020-07-01 15:22:17 (764 KB/s) - ‘dataset.csv’ saved [688156]\n",
            "\n"
          ],
          "name": "stdout"
        }
      ]
    },
    {
      "cell_type": "markdown",
      "metadata": {
        "id": "jhshK7j2-4gC",
        "colab_type": "text"
      },
      "source": [
        "The Process\n",
        "\n",
        "*   We pick the number of topics ahead of time even if we’re not sure what the topics are.\n",
        "*   Each document is represented as a distribution over topics.\n",
        "\n",
        "*   Each topic is represented as a distribution over words.\n",
        "\n"
      ]
    },
    {
      "cell_type": "markdown",
      "metadata": {
        "id": "AN4A2Rew_OmK",
        "colab_type": "text"
      },
      "source": [
        "Text Cleaning\n",
        "\n",
        "We use the following function to clean our texts and return a list of tokens:"
      ]
    },
    {
      "cell_type": "code",
      "metadata": {
        "id": "iaHl0yuT80jX",
        "colab_type": "code",
        "colab": {}
      },
      "source": [
        "import spacy\n",
        "spacy.load('en')\n",
        "from spacy.lang.en import English\n",
        "parser = English()\n",
        "def tokenize(text):\n",
        "    lda_tokens = []\n",
        "    tokens = parser(text)\n",
        "    for token in tokens:\n",
        "        if token.orth_.isspace():\n",
        "            continue\n",
        "        elif token.like_url:\n",
        "            lda_tokens.append('URL')\n",
        "        elif token.orth_.startswith('@'):\n",
        "            lda_tokens.append('SCREEN_NAME')\n",
        "        else:\n",
        "            lda_tokens.append(token.lower_)\n",
        "    return lda_tokens"
      ],
      "execution_count": 11,
      "outputs": []
    },
    {
      "cell_type": "code",
      "metadata": {
        "id": "cnZ7_4vL86D-",
        "colab_type": "code",
        "colab": {
          "base_uri": "https://localhost:8080/",
          "height": 67
        },
        "outputId": "2d15d845-fcc5-4311-df94-f9d2f39eccde"
      },
      "source": [
        "#We use NLTK’s Wordnet to find the meanings of words, synonyms, antonyms, and more. \n",
        "#In addition, we use WordNetLemmatizer to get the root word.\n",
        "\n",
        "import nltk\n",
        "nltk.download('wordnet')"
      ],
      "execution_count": 12,
      "outputs": [
        {
          "output_type": "stream",
          "text": [
            "[nltk_data] Downloading package wordnet to /root/nltk_data...\n",
            "[nltk_data]   Package wordnet is already up-to-date!\n"
          ],
          "name": "stdout"
        },
        {
          "output_type": "execute_result",
          "data": {
            "text/plain": [
              "True"
            ]
          },
          "metadata": {
            "tags": []
          },
          "execution_count": 12
        }
      ]
    },
    {
      "cell_type": "code",
      "metadata": {
        "id": "JHuU66Ll8_7h",
        "colab_type": "code",
        "colab": {}
      },
      "source": [
        "from nltk.corpus import wordnet as wn\n",
        "def get_lemma(word):\n",
        "    lemma = wn.morphy(word)\n",
        "    if lemma is None:\n",
        "        return word\n",
        "    else:\n",
        "        return lemma\n",
        "    \n",
        "from nltk.stem.wordnet import WordNetLemmatizer\n",
        "def get_lemma2(word):\n",
        "    return WordNetLemmatizer().lemmatize(word)"
      ],
      "execution_count": 13,
      "outputs": []
    },
    {
      "cell_type": "code",
      "metadata": {
        "id": "VUWscYie9B7w",
        "colab_type": "code",
        "colab": {
          "base_uri": "https://localhost:8080/",
          "height": 101
        },
        "outputId": "6912e9c8-4d96-4dd7-ba33-6b6078468959"
      },
      "source": [
        "for w in ['sad','leaves','child', 'ran', 'discouraged']:\n",
        "    print(w, get_lemma(w), get_lemma2(w))"
      ],
      "execution_count": 7,
      "outputs": [
        {
          "output_type": "stream",
          "text": [
            "sad sad sad\n",
            "leaves leaf leaf\n",
            "child child child\n",
            "ran run ran\n",
            "discouraged discourage discouraged\n"
          ],
          "name": "stdout"
        }
      ]
    },
    {
      "cell_type": "code",
      "metadata": {
        "id": "oKuxUhvj9E2t",
        "colab_type": "code",
        "colab": {
          "base_uri": "https://localhost:8080/",
          "height": 50
        },
        "outputId": "7cb20ac3-fd76-4eb0-a021-176f0bb1065e"
      },
      "source": [
        "nltk.download('stopwords')\n",
        "en_stop = set(nltk.corpus.stopwords.words('english'))"
      ],
      "execution_count": 14,
      "outputs": [
        {
          "output_type": "stream",
          "text": [
            "[nltk_data] Downloading package stopwords to /root/nltk_data...\n",
            "[nltk_data]   Package stopwords is already up-to-date!\n"
          ],
          "name": "stdout"
        }
      ]
    },
    {
      "cell_type": "code",
      "metadata": {
        "id": "RjZ37sBe9H1d",
        "colab_type": "code",
        "colab": {}
      },
      "source": [
        "#Now we can define a function to prepare the text for topic modelling:\n",
        "\n",
        "def prepare_text_for_lda(text):\n",
        "    tokens = tokenize(text)\n",
        "    tokens = [token for token in tokens if len(token) > 4]\n",
        "    tokens = [token for token in tokens if token not in en_stop]\n",
        "    tokens = [get_lemma(token) for token in tokens]\n",
        "    return tokens"
      ],
      "execution_count": 15,
      "outputs": []
    },
    {
      "cell_type": "code",
      "metadata": {
        "id": "RfCOssNC_5gE",
        "colab_type": "code",
        "colab": {
          "base_uri": "https://localhost:8080/",
          "height": 1000
        },
        "outputId": "1ccca145-b033-4038-9134-314383dcf342"
      },
      "source": [
        "import random\n",
        "text_data = []\n",
        "with open('dataset.csv') as f:\n",
        "    for line in f:\n",
        "        tokens = prepare_text_for_lda(line)\n",
        "        if random.random() > .99:\n",
        "            print(tokens)\n",
        "            text_data.append(tokens)"
      ],
      "execution_count": 16,
      "outputs": [
        {
          "output_type": "stream",
          "text": [
            "[]\n",
            "['class=\"list', 'style']\n",
            "['class=\"border', 'bottom', 'border', 'bottom-0']\n",
            "[]\n",
            "['summary', 'class=\"btn', 'truncate']\n",
            "['id=\"lc21', 'class=\"js']\n",
            "['id=\"l33', 'class=\"blob', 'number', 'number=\"33\"></td']\n",
            "[]\n",
            "['minimax', 'design', 'digital', 'filter', 'using', 'relaxation', 'technique.</td']\n",
            "['id=\"lc75', 'class=\"js']\n",
            "['id=\"l76', 'class=\"blob', 'number', 'number=\"76\"></td']\n",
            "[]\n",
            "[]\n",
            "['inductively', 'tune', 'astable', 'multivibrator.</td']\n",
            "['id=\"lc208', 'class=\"js']\n",
            "['codepipe', 'opportunistic', 'feeding', 'route', 'protocol', 'reliable', 'multicast', 'pipelined', 'network', 'coding.</td']\n",
            "['id=\"l222', 'class=\"blob', 'number', 'number=\"222\"></td']\n",
            "[]\n",
            "['computation', 'shadow', 'boundary', 'using', 'spatial', 'coherence', 'backprojections.</td']\n",
            "[]\n",
            "['id=\"l354', 'class=\"blob', 'number', 'number=\"354\"></td']\n",
            "['id=\"lc398', 'class=\"js']\n",
            "['id=\"l429', 'class=\"blob', 'number', 'number=\"429\"></td']\n",
            "['id=\"lc431', 'class=\"js']\n",
            "[]\n",
            "['id=\"l482', 'class=\"blob', 'number', 'number=\"482\"></td']\n",
            "['synchronization', 'kuramoto', 'model', 'multi', 'scale', 'property.</td']\n",
            "['id=\"lc568', 'class=\"js']\n",
            "['id=\"lc579', 'class=\"js']\n",
            "['id=\"lc612', 'class=\"js']\n",
            "['id=\"lc620', 'class=\"js']\n",
            "['id=\"l685', 'class=\"blob', 'number', 'number=\"685\"></td']\n",
            "['id=\"l714', 'class=\"blob', 'number', 'number=\"714\"></td']\n",
            "['id=\"l735', 'class=\"blob', 'number', 'number=\"735\"></td']\n",
            "['id=\"lc738', 'class=\"js']\n",
            "[]\n",
            "['bodyt2', 'throughput', 'delay', 'performance', 'assurance', 'heterogeneous', 'bsns.</td']\n",
            "['sub-1v', 'power', 'speed', 'static', 'frequency', 'divider.</td']\n",
            "['numerical', 'simulation', 'fluid', 'complex', 'geometry', 'using', 'lattice', 'boltzmann', 'method', 'enable', 'gpus.</td']\n",
            "['id=\"l912', 'class=\"blob', 'number', 'number=\"912\"></td']\n",
            "[]\n",
            "[]\n",
            "['hardware', 'accelerate', 'shaders', 'using', 'fpga&#39;s.</td']\n",
            "[]\n",
            "['broadband', 'beamfoming', 'using', 'nest', 'planar', 'array', 'frustum', 'filters.</td']\n",
            "['split', 'digital', 'background', 'correction', 'residue', 'amplifier', 'nonlinearity', 'error', 'pipeline', 'adc.</td']\n",
            "[]\n",
            "['base', 'frame', 'using', 'reconfigurable', 'display', 'matrix.</td']\n",
            "['id=\"l1117', 'class=\"blob', 'number', 'number=\"1117\"></td']\n",
            "[]\n",
            "['id=\"l1129', 'class=\"blob', 'number', 'number=\"1129\"></td']\n",
            "['id=\"lc1203', 'class=\"js']\n",
            "['wavelet', 'base', 'detection', 'move', 'branch', 'leaf', 'video.</td']\n",
            "[]\n",
            "['modelling', 'analysis', 'multicell', 'converter', 'using', 'discrete', 'models.</td']\n",
            "['id=\"lc1236', 'class=\"js']\n",
            "['id=\"lc1266', 'class=\"js']\n",
            "['id=\"lc1312', 'class=\"js']\n",
            "['egress', 'selection', 'multihomed', 'networks.</td']\n",
            "[]\n",
            "['id=\"lc1341', 'class=\"js']\n",
            "['id=\"l1341', 'class=\"blob', 'number', 'number=\"1341\"></td']\n",
            "['id=\"lc1354', 'class=\"js']\n",
            "['id=\"l1354', 'class=\"blob', 'number', 'number=\"1354\"></td']\n",
            "[]\n",
            "[]\n",
            "['using', 'statistical', 'topic', 'model', 'organize', 'visualize', 'large', 'scale', 'architectural', 'image', 'databases.</td']\n",
            "[]\n",
            "['novel', 'mosfet', 'bandgap', 'voltage', 'reference.</td']\n",
            "[]\n",
            "['id=\"lc1620', 'class=\"js']\n",
            "['group', 'recommendation', 'semantics', 'efficiency.</td']\n",
            "[]\n",
            "['id=\"l1662', 'class=\"blob', 'number', 'number=\"1662\"></td']\n",
            "[]\n",
            "['id=\"l1664', 'class=\"blob', 'number', 'number=\"1664\"></td']\n",
            "['represent', 'incomplete', 'information', 'relational', 'base</td']\n",
            "['id=\"l1689', 'class=\"blob', 'number', 'number=\"1689\"></td']\n",
            "['id=\"lc1707', 'class=\"js']\n",
            "[]\n",
            "['id=\"lc1819', 'class=\"js']\n",
            "['id=\"l1824', 'class=\"blob', 'number', 'number=\"1824\"></td']\n",
            "['id=\"l1828', 'class=\"blob', 'number', 'number=\"1828\"></td']\n",
            "['id=\"lc1845', 'class=\"js']\n",
            "['supporting', 'ontology', 'base', 'semantic', 'match', 'rdbms.</td']\n",
            "['id=\"l1853', 'class=\"blob', 'number', 'number=\"1853\"></td']\n",
            "['formalization', 'database', 'system', 'formal', 'definition', 'invite', 'paper).</td']\n",
            "[]\n",
            "['id=\"l1881', 'class=\"blob', 'number', 'number=\"1881\"></td']\n",
            "['sharing', 'relationship', 'web.</td']\n",
            "['id=\"lc1884', 'class=\"js']\n",
            "[]\n",
            "[]\n",
            "[]\n",
            "['id=\"lc1934', 'class=\"js']\n",
            "['compressing', 'search', 'zips.</td']\n",
            "['id=\"l1964', 'class=\"blob', 'number', 'number=\"1964\"></td']\n",
            "[]\n",
            "[]\n",
            "['id=\"lc2101', 'class=\"js']\n",
            "[]\n",
            "['micropower', 'comparator', 'power', 'efficiency', 'hearing', 'class', 'amplifiers.</td']\n",
            "[]\n",
            "['modelling', 'deterministic', 'query', 'update', 'deductive', 'databases.</td']\n",
            "['id=\"l2201', 'class=\"blob', 'number', 'number=\"2201\"></td']\n",
            "['leboned', 'metadata', 'architecture.</td']\n",
            "['id=\"l2298', 'class=\"blob', 'number', 'number=\"2298\"></td']\n",
            "['id=\"lc2317', 'class=\"js']\n",
            "['id=\"lc2362', 'class=\"js']\n",
            "['id=\"lc2382', 'class=\"js']\n",
            "['id=\"l2405', 'class=\"blob', 'number', 'number=\"2405\"></td']\n",
            "[]\n",
            "['id=\"lc2459', 'class=\"js']\n",
            "['implementation', 'filter', 'electronic', 'speckle', 'pattern', 'interferometry', 'applications.</td']\n",
            "['class=\"mr-3', 'lg-0\"><a', 'href=\"https://github.blog', 'click=\"footer', 'blog\">blog</a></li']\n"
          ],
          "name": "stdout"
        }
      ]
    },
    {
      "cell_type": "markdown",
      "metadata": {
        "id": "kEwc6BtpA6Y-",
        "colab_type": "text"
      },
      "source": [
        "LDA with Gensim\n",
        "First, we are creating a dictionary from the data, then convert to bag-of-words corpus and save the dictionary and corpus for future use."
      ]
    },
    {
      "cell_type": "code",
      "metadata": {
        "id": "uwVG8ZkoA7gL",
        "colab_type": "code",
        "colab": {
          "base_uri": "https://localhost:8080/",
          "height": 70
        },
        "outputId": "4b939e13-1373-4591-e874-f6f2130c62fc"
      },
      "source": [
        "from gensim import corpora\n",
        "dictionary = corpora.Dictionary(text_data)\n",
        "corpus = [dictionary.doc2bow(text) for text in text_data]\n",
        "import pickle\n",
        "pickle.dump(corpus, open('corpus.pkl', 'wb'))\n",
        "dictionary.save('dictionary.gensim')"
      ],
      "execution_count": 18,
      "outputs": [
        {
          "output_type": "stream",
          "text": [
            "/usr/local/lib/python3.6/dist-packages/smart_open/smart_open_lib.py:253: UserWarning: This function is deprecated, use smart_open.open instead. See the migration notes for details: https://github.com/RaRe-Technologies/smart_open/blob/master/README.rst#migrating-to-the-new-open-function\n",
            "  'See the migration notes for details: %s' % _MIGRATION_NOTES_URL\n"
          ],
          "name": "stderr"
        }
      ]
    },
    {
      "cell_type": "code",
      "metadata": {
        "id": "KlhQ9607A90b",
        "colab_type": "code",
        "colab": {
          "base_uri": "https://localhost:8080/",
          "height": 154
        },
        "outputId": "6bdbfe93-ed0d-44e3-8432-a3a90cacee88"
      },
      "source": [
        "import gensim\n",
        "NUM_TOPICS = 5\n",
        "ldamodel = gensim.models.ldamodel.LdaModel(corpus, num_topics = NUM_TOPICS, id2word=dictionary, passes=15)\n",
        "ldamodel.save('model5.gensim')\n",
        "topics = ldamodel.print_topics(num_words=4)\n",
        "for topic in topics:\n",
        "    print(topic)"
      ],
      "execution_count": 19,
      "outputs": [
        {
          "output_type": "stream",
          "text": [
            "(0, '0.045*\"class=\"blob\" + 0.045*\"number\" + 0.023*\"using\" + 0.016*\"base\"')\n",
            "(1, '0.095*\"number\" + 0.095*\"class=\"blob\" + 0.011*\"information\" + 0.011*\"relational\"')\n",
            "(2, '0.034*\"number\" + 0.034*\"class=\"blob\" + 0.013*\"filter\" + 0.013*\"scale\"')\n",
            "(3, '0.049*\"class=\"blob\" + 0.049*\"number\" + 0.010*\"databases.</td\" + 0.010*\"power\"')\n",
            "(4, '0.217*\"class=\"js\" + 0.026*\"using\" + 0.010*\"gpus.</td\" + 0.010*\"method\"')\n"
          ],
          "name": "stdout"
        },
        {
          "output_type": "stream",
          "text": [
            "/usr/local/lib/python3.6/dist-packages/smart_open/smart_open_lib.py:253: UserWarning: This function is deprecated, use smart_open.open instead. See the migration notes for details: https://github.com/RaRe-Technologies/smart_open/blob/master/README.rst#migrating-to-the-new-open-function\n",
            "  'See the migration notes for details: %s' % _MIGRATION_NOTES_URL\n"
          ],
          "name": "stderr"
        }
      ]
    },
    {
      "cell_type": "code",
      "metadata": {
        "id": "OzgmQ4W_BEe7",
        "colab_type": "code",
        "colab": {
          "base_uri": "https://localhost:8080/",
          "height": 50
        },
        "outputId": "7d4a0ef1-2991-40ec-af8a-835d386d7c8b"
      },
      "source": [
        "new_doc = 'Practical Bayesian Optimization of Machine Learning Algorithms'\n",
        "new_doc = prepare_text_for_lda(new_doc)\n",
        "new_doc_bow = dictionary.doc2bow(new_doc)\n",
        "print(new_doc_bow)\n",
        "print(ldamodel.get_document_topics(new_doc_bow))"
      ],
      "execution_count": 20,
      "outputs": [
        {
          "output_type": "stream",
          "text": [
            "[]\n",
            "[(0, 0.2), (1, 0.2), (2, 0.2), (3, 0.2), (4, 0.2)]\n"
          ],
          "name": "stdout"
        }
      ]
    },
    {
      "cell_type": "code",
      "metadata": {
        "id": "DjhGzAKxBJAS",
        "colab_type": "code",
        "colab": {
          "base_uri": "https://localhost:8080/",
          "height": 121
        },
        "outputId": "ec86f963-801d-422c-b4c4-79e73e09f2d2"
      },
      "source": [
        "ldamodel = gensim.models.ldamodel.LdaModel(corpus, num_topics = 3, id2word=dictionary, passes=15)\n",
        "ldamodel.save('model3.gensim')\n",
        "topics = ldamodel.print_topics(num_words=4)\n",
        "for topic in topics:\n",
        "    print(topic)"
      ],
      "execution_count": 21,
      "outputs": [
        {
          "output_type": "stream",
          "text": [
            "(0, '0.009*\"base\" + 0.009*\"filter\" + 0.009*\"power\" + 0.009*\"interferometry\"')\n",
            "(1, '0.150*\"class=\"js\" + 0.018*\"using\" + 0.007*\"model\" + 0.007*\"scale\"')\n",
            "(2, '0.095*\"class=\"blob\" + 0.095*\"number\" + 0.020*\"using\" + 0.009*\"digital\"')\n"
          ],
          "name": "stdout"
        },
        {
          "output_type": "stream",
          "text": [
            "/usr/local/lib/python3.6/dist-packages/smart_open/smart_open_lib.py:253: UserWarning: This function is deprecated, use smart_open.open instead. See the migration notes for details: https://github.com/RaRe-Technologies/smart_open/blob/master/README.rst#migrating-to-the-new-open-function\n",
            "  'See the migration notes for details: %s' % _MIGRATION_NOTES_URL\n"
          ],
          "name": "stderr"
        }
      ]
    },
    {
      "cell_type": "code",
      "metadata": {
        "id": "v2iK-gbtB4EK",
        "colab_type": "code",
        "colab": {
          "base_uri": "https://localhost:8080/",
          "height": 238
        },
        "outputId": "9c54c006-4549-4ec7-f0ec-0c15bb4fbf30"
      },
      "source": [
        "ldamodel = gensim.models.ldamodel.LdaModel(corpus, num_topics = 10, id2word=dictionary, passes=15)\n",
        "ldamodel.save('model10.gensim')\n",
        "topics = ldamodel.print_topics(num_words=4)\n",
        "for topic in topics:\n",
        "    print(topic)"
      ],
      "execution_count": 22,
      "outputs": [
        {
          "output_type": "stream",
          "text": [
            "(0, '0.025*\"base\" + 0.025*\"move\" + 0.025*\"metadata\" + 0.025*\"invite\"')\n",
            "(1, '0.081*\"class=\"blob\" + 0.081*\"number\" + 0.017*\"digital\" + 0.017*\"correction\"')\n",
            "(2, '0.173*\"class=\"blob\" + 0.173*\"number\" + 0.009*\"id=\"l1664\" + 0.009*\"number=\"1662\"></td\"')\n",
            "(3, '0.037*\"using\" + 0.019*\"modelling\" + 0.019*\"power\" + 0.019*\"converter\"')\n",
            "(4, '0.038*\"using\" + 0.038*\"filter\" + 0.020*\"pattern\" + 0.020*\"design\"')\n",
            "(5, '0.376*\"class=\"js\" + 0.015*\"networks.</td\" + 0.015*\"multihomed\" + 0.015*\"egress\"')\n",
            "(6, '0.043*\"using\" + 0.022*\"bsns.</td\" + 0.022*\"bodyt2\" + 0.022*\"assurance\"')\n",
            "(7, '0.018*\"lattice\" + 0.018*\"geometry\" + 0.018*\"numerical\" + 0.018*\"method\"')\n",
            "(8, '0.026*\"model\" + 0.026*\"scale\" + 0.026*\"opportunistic\" + 0.026*\"multi\"')\n",
            "(9, '0.035*\"recommendation\" + 0.035*\"semantics\" + 0.035*\"group\" + 0.035*\"efficiency.</td\"')\n"
          ],
          "name": "stdout"
        },
        {
          "output_type": "stream",
          "text": [
            "/usr/local/lib/python3.6/dist-packages/smart_open/smart_open_lib.py:253: UserWarning: This function is deprecated, use smart_open.open instead. See the migration notes for details: https://github.com/RaRe-Technologies/smart_open/blob/master/README.rst#migrating-to-the-new-open-function\n",
            "  'See the migration notes for details: %s' % _MIGRATION_NOTES_URL\n"
          ],
          "name": "stderr"
        }
      ]
    },
    {
      "cell_type": "markdown",
      "metadata": {
        "id": "7DZlg_34ClFQ",
        "colab_type": "text"
      },
      "source": [
        "pyLDAvis is designed to help users interpret the topics in a topic model that has been fit to a corpus of text data. The package extracts information from a fitted LDA topic model to inform an interactive web-based visualization.\n"
      ]
    },
    {
      "cell_type": "code",
      "metadata": {
        "id": "mLhqo5xdCiT6",
        "colab_type": "code",
        "colab": {
          "base_uri": "https://localhost:8080/",
          "height": 1000
        },
        "outputId": "253f8638-6fd8-4d89-fc47-1e95641b99d2"
      },
      "source": [
        "#Visualizing 5 topics:\n",
        "!pip install pyLDAvis\n",
        "dictionary = gensim.corpora.Dictionary.load('dictionary.gensim')\n",
        "corpus = pickle.load(open('corpus.pkl', 'rb'))\n",
        "lda = gensim.models.ldamodel.LdaModel.load('model5.gensim')\n",
        "import pyLDAvis.gensim\n",
        "lda_display = pyLDAvis.gensim.prepare(lda, corpus, dictionary, sort_topics=False)\n",
        "pyLDAvis.display(lda_display)"
      ],
      "execution_count": 25,
      "outputs": [
        {
          "output_type": "stream",
          "text": [
            "Collecting pyLDAvis\n",
            "\u001b[?25l  Downloading https://files.pythonhosted.org/packages/a5/3a/af82e070a8a96e13217c8f362f9a73e82d61ac8fff3a2561946a97f96266/pyLDAvis-2.1.2.tar.gz (1.6MB)\n",
            "\u001b[K     |████████████████████████████████| 1.6MB 2.7MB/s \n",
            "\u001b[?25hRequirement already satisfied: wheel>=0.23.0 in /usr/local/lib/python3.6/dist-packages (from pyLDAvis) (0.34.2)\n",
            "Requirement already satisfied: numpy>=1.9.2 in /usr/local/lib/python3.6/dist-packages (from pyLDAvis) (1.18.5)\n",
            "Requirement already satisfied: scipy>=0.18.0 in /usr/local/lib/python3.6/dist-packages (from pyLDAvis) (1.4.1)\n",
            "Requirement already satisfied: pandas>=0.17.0 in /usr/local/lib/python3.6/dist-packages (from pyLDAvis) (1.0.5)\n",
            "Requirement already satisfied: joblib>=0.8.4 in /usr/local/lib/python3.6/dist-packages (from pyLDAvis) (0.15.1)\n",
            "Requirement already satisfied: jinja2>=2.7.2 in /usr/local/lib/python3.6/dist-packages (from pyLDAvis) (2.11.2)\n",
            "Requirement already satisfied: numexpr in /usr/local/lib/python3.6/dist-packages (from pyLDAvis) (2.7.1)\n",
            "Requirement already satisfied: pytest in /usr/local/lib/python3.6/dist-packages (from pyLDAvis) (3.6.4)\n",
            "Requirement already satisfied: future in /usr/local/lib/python3.6/dist-packages (from pyLDAvis) (0.16.0)\n",
            "Collecting funcy\n",
            "\u001b[?25l  Downloading https://files.pythonhosted.org/packages/ce/4b/6ffa76544e46614123de31574ad95758c421aae391a1764921b8a81e1eae/funcy-1.14.tar.gz (548kB)\n",
            "\u001b[K     |████████████████████████████████| 552kB 11.3MB/s \n",
            "\u001b[?25hRequirement already satisfied: python-dateutil>=2.6.1 in /usr/local/lib/python3.6/dist-packages (from pandas>=0.17.0->pyLDAvis) (2.8.1)\n",
            "Requirement already satisfied: pytz>=2017.2 in /usr/local/lib/python3.6/dist-packages (from pandas>=0.17.0->pyLDAvis) (2018.9)\n",
            "Requirement already satisfied: MarkupSafe>=0.23 in /usr/local/lib/python3.6/dist-packages (from jinja2>=2.7.2->pyLDAvis) (1.1.1)\n",
            "Requirement already satisfied: py>=1.5.0 in /usr/local/lib/python3.6/dist-packages (from pytest->pyLDAvis) (1.8.2)\n",
            "Requirement already satisfied: more-itertools>=4.0.0 in /usr/local/lib/python3.6/dist-packages (from pytest->pyLDAvis) (8.4.0)\n",
            "Requirement already satisfied: six>=1.10.0 in /usr/local/lib/python3.6/dist-packages (from pytest->pyLDAvis) (1.12.0)\n",
            "Requirement already satisfied: attrs>=17.4.0 in /usr/local/lib/python3.6/dist-packages (from pytest->pyLDAvis) (19.3.0)\n",
            "Requirement already satisfied: pluggy<0.8,>=0.5 in /usr/local/lib/python3.6/dist-packages (from pytest->pyLDAvis) (0.7.1)\n",
            "Requirement already satisfied: atomicwrites>=1.0 in /usr/local/lib/python3.6/dist-packages (from pytest->pyLDAvis) (1.4.0)\n",
            "Requirement already satisfied: setuptools in /usr/local/lib/python3.6/dist-packages (from pytest->pyLDAvis) (47.3.1)\n",
            "Building wheels for collected packages: pyLDAvis, funcy\n",
            "  Building wheel for pyLDAvis (setup.py) ... \u001b[?25l\u001b[?25hdone\n",
            "  Created wheel for pyLDAvis: filename=pyLDAvis-2.1.2-py2.py3-none-any.whl size=97711 sha256=2c7b4c742991024169d4c94f7ca68ec1ad26d7f449eb2658508a0473f79b4ab8\n",
            "  Stored in directory: /root/.cache/pip/wheels/98/71/24/513a99e58bb6b8465bae4d2d5e9dba8f0bef8179e3051ac414\n",
            "  Building wheel for funcy (setup.py) ... \u001b[?25l\u001b[?25hdone\n",
            "  Created wheel for funcy: filename=funcy-1.14-py2.py3-none-any.whl size=32042 sha256=89f5600a0f75abbe25f3f85f55266bef7483bed38d15af1656eac20904dce1f6\n",
            "  Stored in directory: /root/.cache/pip/wheels/20/5a/d8/1d875df03deae6f178dfdf70238cca33f948ef8a6f5209f2eb\n",
            "Successfully built pyLDAvis funcy\n",
            "Installing collected packages: funcy, pyLDAvis\n",
            "Successfully installed funcy-1.14 pyLDAvis-2.1.2\n"
          ],
          "name": "stdout"
        },
        {
          "output_type": "stream",
          "text": [
            "/usr/local/lib/python3.6/dist-packages/smart_open/smart_open_lib.py:253: UserWarning: This function is deprecated, use smart_open.open instead. See the migration notes for details: https://github.com/RaRe-Technologies/smart_open/blob/master/README.rst#migrating-to-the-new-open-function\n",
            "  'See the migration notes for details: %s' % _MIGRATION_NOTES_URL\n"
          ],
          "name": "stderr"
        },
        {
          "output_type": "execute_result",
          "data": {
            "text/html": [
              "\n",
              "<link rel=\"stylesheet\" type=\"text/css\" href=\"https://cdn.rawgit.com/bmabey/pyLDAvis/files/ldavis.v1.0.0.css\">\n",
              "\n",
              "\n",
              "<div id=\"ldavis_el1221399931766205129181386254\"></div>\n",
              "<script type=\"text/javascript\">\n",
              "\n",
              "var ldavis_el1221399931766205129181386254_data = {\"mdsDat\": {\"x\": [-0.040999949252697704, -0.07089616415779477, -0.023833912704763562, -0.05281698180751902, 0.18854700792277487], \"y\": [0.11201497032049199, -0.01242661547005095, -3.3674753727820225e-05, -0.0931437336999488, -0.006410946396764376], \"topics\": [1, 2, 3, 4, 5], \"cluster\": [1, 1, 1, 1, 1], \"Freq\": [25.184301376342773, 17.377471923828125, 14.831513404846191, 22.539531707763672, 20.06717872619629]}, \"tinfo\": {\"Term\": [\"class=\\\"js\", \"class=\\\"blob\", \"number\", \"base\", \"using\", \"scale\", \"model\", \"digital\", \"filters.</td\", \"broadband\", \"beamfoming\", \"array\", \"nest\", \"frustum\", \"speckle\", \"planar\", \"pattern\", \"applications.</td\", \"implementation\", \"electronic\", \"interferometry\", \"multi\", \"semantic\", \"synchronization\", \"match\", \"rdbms.</td\", \"ontology\", \"supporting\", \"kuramoto\", \"property.</td\", \"digital\", \"background\", \"residue\", \"correction\", \"pipeline\", \"error\", \"amplifier\", \"split\", \"nonlinearity\", \"adc.</td\", \"performance\", \"models.</td\", \"bodyt2\", \"wavelet\", \"relaxation\", \"bsns.</td\", \"detection\", \"video.</td\", \"branch\", \"move\", \"design\", \"heterogeneous\", \"assurance\", \"delay\", \"throughput\", \"leaf\", \"multicell\", \"minimax\", \"discrete\", \"analysis\", \"technique.</td\", \"base\", \"using\", \"class=\\\"blob\", \"number\", \"information\", \"relational\", \"incomplete\", \"represent\", \"base</td\", \"id=\\\"l1689\", \"id=\\\"l2201\", \"number=\\\"1117\\\"></td\", \"id=\\\"l1664\", \"number=\\\"354\\\"></td\", \"id=\\\"l354\", \"number=\\\"1129\\\"></td\", \"id=\\\"l1354\", \"id=\\\"l2405\", \"number=\\\"1354\\\"></td\", \"number=\\\"1689\\\"></td\", \"id=\\\"l1129\", \"number=\\\"2405\\\"></td\", \"number=\\\"1341\\\"></td\", \"id=\\\"l1341\", \"id=\\\"l1117\", \"id=\\\"l1824\", \"number=\\\"2201\\\"></td\", \"number=\\\"1824\\\"></td\", \"number=\\\"1664\\\"></td\", \"metadata\", \"architecture.</td\", \"leboned\", \"deductive\", \"query\", \"number\", \"class=\\\"blob\", \"modelling\", \"filters.</td\", \"broadband\", \"beamfoming\", \"nest\", \"array\", \"frustum\", \"speckle\", \"planar\", \"pattern\", \"applications.</td\", \"implementation\", \"electronic\", \"interferometry\", \"multi\", \"semantic\", \"synchronization\", \"match\", \"rdbms.</td\", \"ontology\", \"kuramoto\", \"supporting\", \"property.</td\", \"astable\", \"multivibrator.</td\", \"inductively\", \"tune\", \"number=\\\"1964\\\"></td\", \"id=\\\"l1964\", \"id=\\\"l714\", \"number=\\\"714\\\"></td\", \"number\", \"class=\\\"blob\", \"filter\", \"scale\", \"model\", \"network\", \"codepipe\", \"route\", \"multicast\", \"pipelined\", \"reliable\", \"protocol\", \"feeding\", \"coding.</td\", \"opportunistic\", \"formal\", \"class\", \"definition\", \"hearing\", \"system\", \"efficiency\", \"comparator\", \"amplifiers.</td\", \"invite\", \"micropower\", \"paper).</td\", \"formalization\", \"database\", \"mosfet\", \"reference.</td\", \"novel\", \"voltage\", \"bandgap\", \"bottom-0\", \"border\", \"class=\\\"blob\", \"number\", \"databases.</td\", \"power\", \"class=\\\"js\", \"gpus.</td\", \"method\", \"complex\", \"enable\", \"simulation\", \"fluid\", \"numerical\", \"boltzmann\", \"lattice\", \"geometry\", \"shadow\", \"computation\", \"backprojections.</td\", \"spatial\", \"boundary\", \"coherence\", \"sub-1v\", \"divider.</td\", \"frequency\", \"speed\", \"static\", \"fpga&#39;s.</td\", \"accelerate\", \"shaders\", \"hardware\", \"networks.</td\", \"egress\", \"selection\", \"multihomed\", \"using\"], \"Freq\": [15.0, 14.0, 14.0, 2.0, 5.0, 1.0, 1.0, 1.0, 1.0, 1.0, 1.0, 1.0, 1.0, 1.0, 1.0, 1.0, 1.0, 1.0, 1.0, 1.0, 1.0, 1.0, 1.0, 1.0, 1.0, 1.0, 1.0, 1.0, 1.0, 1.0, 1.3612779378890991, 0.7425119876861572, 0.7425119280815125, 0.7425112724304199, 0.7425111532211304, 0.7425110340118408, 0.7425110340118408, 0.7425108551979065, 0.7425105571746826, 0.7425094842910767, 0.7425062656402588, 0.7425060272216797, 0.7425058484077454, 0.7425053715705872, 0.7425053715705872, 0.7425054311752319, 0.7425052523612976, 0.7425052523612976, 0.7425054311752319, 0.7425051927566528, 0.7425051331520081, 0.7425050139427185, 0.7425050139427185, 0.7425049543380737, 0.7425046563148499, 0.7425046563148499, 0.7425045371055603, 0.7425041794776917, 0.7425035238265991, 0.7425034642219543, 0.74250328540802, 1.3615086078643799, 1.9805415868759155, 3.8260385990142822, 3.826016902923584, 0.6555254459381104, 0.6555247902870178, 0.6555246710777283, 0.6555233001708984, 0.6555222272872925, 0.655520498752594, 0.6555201411247253, 0.6555201411247253, 0.6555197238922119, 0.6555196046829224, 0.6555196642875671, 0.6555193662643433, 0.6555192470550537, 0.6555190086364746, 0.6555190086364746, 0.6555187702178955, 0.655518651008606, 0.6555185317993164, 0.6555182933807373, 0.6555180549621582, 0.6555178761482239, 0.6555177569389343, 0.6555175185203552, 0.6555175185203552, 0.6555174589157104, 0.655510663986206, 0.6555105447769165, 0.6555094718933105, 0.6553979516029358, 0.6553763747215271, 5.5939741134643555, 5.593966007232666, 0.6555215716362, 0.637179970741272, 0.6371799111366272, 0.6371797323226929, 0.6371796727180481, 0.6371796131134033, 0.6371792554855347, 0.637178897857666, 0.6371784806251526, 0.6371783018112183, 0.6371781826019287, 0.6371777653694153, 0.6371777057647705, 0.6371777057647705, 0.637177050113678, 0.6371768116950989, 0.6371763348579407, 0.6371763348579407, 0.6371758580207825, 0.6371752023696899, 0.6371749043464661, 0.6371749043464661, 0.6371743083000183, 0.6371692419052124, 0.6371692419052124, 0.6371690630912781, 0.6371679306030273, 0.6371674537658691, 0.6371672749519348, 0.6371672749519348, 0.6371671557426453, 1.6910792589187622, 1.691072702407837, 0.6375167369842529, 0.6372031569480896, 0.6371975541114807, 0.7300178408622742, 0.7300178408622742, 0.7300176024436951, 0.7300176620483398, 0.7300174832344055, 0.7300175428390503, 0.7300173044204712, 0.7300173044204712, 0.7300170063972473, 0.730016827583313, 0.7300129532814026, 0.730012834072113, 0.7300127744674683, 0.7300122976303101, 0.7300124168395996, 0.7300122976303101, 0.7300121188163757, 0.7300119400024414, 0.7300118803977966, 0.7300118803977966, 0.7300118207931519, 0.7300113439559937, 0.7300111055374146, 0.730005145072937, 0.7300050258636475, 0.7300049662590027, 0.7300048470497131, 0.7300046682357788, 0.7300004959106445, 0.729998767375946, 3.766880512237549, 3.7668778896331787, 0.7301217913627625, 0.7300588488578796, 14.821844100952148, 0.668207585811615, 0.6682074069976807, 0.6682073473930359, 0.6682072281837463, 0.6682071089744568, 0.6682069897651672, 0.6682069897651672, 0.6682067513465881, 0.6682063341140747, 0.6682062149047852, 0.6682020425796509, 0.6682018041610718, 0.6682016253471375, 0.6682015061378479, 0.6682009696960449, 0.6682006120681763, 0.668198823928833, 0.6681985855102539, 0.66819828748703, 0.6681981086730957, 0.6681976914405823, 0.6681955456733704, 0.6681951284408569, 0.6681951284408569, 0.6681949496269226, 0.668190062046051, 0.6681898832321167, 0.6681889891624451, 0.6681885719299316, 1.7836830615997314], \"Total\": [15.0, 14.0, 14.0, 2.0, 5.0, 1.0, 1.0, 1.0, 1.0, 1.0, 1.0, 1.0, 1.0, 1.0, 1.0, 1.0, 1.0, 1.0, 1.0, 1.0, 1.0, 1.0, 1.0, 1.0, 1.0, 1.0, 1.0, 1.0, 1.0, 1.0, 1.809790015220642, 1.191020131111145, 1.191020131111145, 1.191019892692566, 1.191019892692566, 1.191019892692566, 1.1910200119018555, 1.191019892692566, 1.191019892692566, 1.1910197734832764, 1.1910194158554077, 1.1910195350646973, 1.1910195350646973, 1.1910192966461182, 1.1910192966461182, 1.1910194158554077, 1.1910192966461182, 1.1910192966461182, 1.1910194158554077, 1.1910192966461182, 1.1910192966461182, 1.1910192966461182, 1.1910194158554077, 1.1910194158554077, 1.1910194158554077, 1.1910194158554077, 1.1910194158554077, 1.1910191774368286, 1.1910191774368286, 1.1910192966461182, 1.191019058227539, 2.340815305709839, 5.238419532775879, 14.98937702178955, 14.989373207092285, 1.1185379028320312, 1.1185380220413208, 1.1185380220413208, 1.1185381412506104, 1.1185381412506104, 1.1185381412506104, 1.1185382604599, 1.1185383796691895, 1.1185381412506104, 1.1185382604599, 1.1185382604599, 1.1185382604599, 1.1185383796691895, 1.1185382604599, 1.1185383796691895, 1.1185382604599, 1.1185382604599, 1.118538498878479, 1.118538498878479, 1.1185383796691895, 1.1185383796691895, 1.1185383796691895, 1.1185383796691895, 1.1185383796691895, 1.1185383796691895, 1.118538737297058, 1.118538737297058, 1.118538737297058, 1.1185343265533447, 1.118533730506897, 14.989373207092285, 14.98937702178955, 1.7372812032699585, 1.103243112564087, 1.1032429933547974, 1.103243112564087, 1.103243112564087, 1.103243112564087, 1.103243112564087, 1.1032432317733765, 1.103243350982666, 1.1032432317733765, 1.1032432317733765, 1.103243350982666, 1.103243350982666, 1.103243350982666, 1.103243350982666, 1.103243350982666, 1.103243350982666, 1.1032434701919556, 1.1032435894012451, 1.1032435894012451, 1.1032435894012451, 1.1032437086105347, 1.1032437086105347, 1.1032440662384033, 1.1032440662384033, 1.1032440662384033, 1.103244423866272, 1.1032441854476929, 1.1032443046569824, 1.1032443046569824, 1.1032443046569824, 14.989373207092285, 14.98937702178955, 1.721956729888916, 1.711596965789795, 1.7115979194641113, 1.180607795715332, 1.1806079149246216, 1.1806076765060425, 1.180607795715332, 1.1806076765060425, 1.1806076765060425, 1.1806076765060425, 1.1806076765060425, 1.1806076765060425, 1.180607795715332, 1.1806073188781738, 1.1806073188781738, 1.1806073188781738, 1.1806070804595947, 1.1806073188781738, 1.1806071996688843, 1.1806073188781738, 1.1806071996688843, 1.1806071996688843, 1.1806071996688843, 1.1806071996688843, 1.1806073188781738, 1.1806073188781738, 1.1806068420410156, 1.180606722831726, 1.1806068420410156, 1.180606722831726, 1.1806066036224365, 1.1806063652038574, 1.1806061267852783, 14.98937702178955, 14.989373207092285, 1.7268989086151123, 1.7374587059020996, 15.634988784790039, 1.1290981769561768, 1.1290981769561768, 1.1290981769561768, 1.1290981769561768, 1.1290981769561768, 1.1290981769561768, 1.1290982961654663, 1.1290982961654663, 1.1290981769561768, 1.1290982961654663, 1.1290984153747559, 1.1290984153747559, 1.1290984153747559, 1.1290982961654663, 1.1290984153747559, 1.1290984153747559, 1.1290985345840454, 1.1290984153747559, 1.1290984153747559, 1.1290984153747559, 1.1290984153747559, 1.1290985345840454, 1.1290985345840454, 1.1290985345840454, 1.1290985345840454, 1.129098653793335, 1.129098653793335, 1.129098653793335, 1.1290987730026245, 5.238419532775879], \"Category\": [\"Default\", \"Default\", \"Default\", \"Default\", \"Default\", \"Default\", \"Default\", \"Default\", \"Default\", \"Default\", \"Default\", \"Default\", \"Default\", \"Default\", \"Default\", \"Default\", \"Default\", \"Default\", \"Default\", \"Default\", \"Default\", \"Default\", \"Default\", \"Default\", \"Default\", \"Default\", \"Default\", \"Default\", \"Default\", \"Default\", \"Topic1\", \"Topic1\", \"Topic1\", \"Topic1\", \"Topic1\", \"Topic1\", \"Topic1\", \"Topic1\", \"Topic1\", \"Topic1\", \"Topic1\", \"Topic1\", \"Topic1\", \"Topic1\", \"Topic1\", \"Topic1\", \"Topic1\", \"Topic1\", \"Topic1\", \"Topic1\", \"Topic1\", \"Topic1\", \"Topic1\", \"Topic1\", \"Topic1\", \"Topic1\", \"Topic1\", \"Topic1\", \"Topic1\", \"Topic1\", \"Topic1\", \"Topic1\", \"Topic1\", \"Topic1\", \"Topic1\", \"Topic2\", \"Topic2\", \"Topic2\", \"Topic2\", \"Topic2\", \"Topic2\", \"Topic2\", \"Topic2\", \"Topic2\", \"Topic2\", \"Topic2\", \"Topic2\", \"Topic2\", \"Topic2\", \"Topic2\", \"Topic2\", \"Topic2\", \"Topic2\", \"Topic2\", \"Topic2\", \"Topic2\", \"Topic2\", \"Topic2\", \"Topic2\", \"Topic2\", \"Topic2\", \"Topic2\", \"Topic2\", \"Topic2\", \"Topic2\", \"Topic2\", \"Topic2\", \"Topic2\", \"Topic3\", \"Topic3\", \"Topic3\", \"Topic3\", \"Topic3\", \"Topic3\", \"Topic3\", \"Topic3\", \"Topic3\", \"Topic3\", \"Topic3\", \"Topic3\", \"Topic3\", \"Topic3\", \"Topic3\", \"Topic3\", \"Topic3\", \"Topic3\", \"Topic3\", \"Topic3\", \"Topic3\", \"Topic3\", \"Topic3\", \"Topic3\", \"Topic3\", \"Topic3\", \"Topic3\", \"Topic3\", \"Topic3\", \"Topic3\", \"Topic3\", \"Topic3\", \"Topic3\", \"Topic3\", \"Topic3\", \"Topic4\", \"Topic4\", \"Topic4\", \"Topic4\", \"Topic4\", \"Topic4\", \"Topic4\", \"Topic4\", \"Topic4\", \"Topic4\", \"Topic4\", \"Topic4\", \"Topic4\", \"Topic4\", \"Topic4\", \"Topic4\", \"Topic4\", \"Topic4\", \"Topic4\", \"Topic4\", \"Topic4\", \"Topic4\", \"Topic4\", \"Topic4\", \"Topic4\", \"Topic4\", \"Topic4\", \"Topic4\", \"Topic4\", \"Topic4\", \"Topic4\", \"Topic4\", \"Topic4\", \"Topic4\", \"Topic5\", \"Topic5\", \"Topic5\", \"Topic5\", \"Topic5\", \"Topic5\", \"Topic5\", \"Topic5\", \"Topic5\", \"Topic5\", \"Topic5\", \"Topic5\", \"Topic5\", \"Topic5\", \"Topic5\", \"Topic5\", \"Topic5\", \"Topic5\", \"Topic5\", \"Topic5\", \"Topic5\", \"Topic5\", \"Topic5\", \"Topic5\", \"Topic5\", \"Topic5\", \"Topic5\", \"Topic5\", \"Topic5\", \"Topic5\", \"Topic5\"], \"logprob\": [30.0, 29.0, 28.0, 27.0, 26.0, 25.0, 24.0, 23.0, 22.0, 21.0, 20.0, 19.0, 18.0, 17.0, 16.0, 15.0, 14.0, 13.0, 12.0, 11.0, 10.0, 9.0, 8.0, 7.0, 6.0, 5.0, 4.0, 3.0, 2.0, 1.0, -4.141600131988525, -4.747700214385986, -4.747700214385986, -4.747700214385986, -4.747700214385986, -4.747700214385986, -4.747700214385986, -4.747700214385986, -4.747700214385986, -4.747700214385986, -4.747700214385986, -4.747700214385986, -4.747700214385986, -4.747700214385986, -4.747700214385986, -4.747700214385986, -4.747700214385986, -4.747700214385986, -4.747700214385986, -4.747700214385986, -4.747700214385986, -4.747700214385986, -4.747700214385986, -4.747700214385986, -4.747700214385986, -4.747700214385986, -4.747700214385986, -4.747700214385986, -4.747700214385986, -4.747700214385986, -4.747700214385986, -4.14139986038208, -3.7665998935699463, -3.1082000732421875, -3.1082000732421875, -4.501299858093262, -4.501299858093262, -4.501299858093262, -4.501299858093262, -4.501299858093262, -4.501299858093262, -4.501299858093262, -4.501299858093262, -4.501299858093262, -4.501299858093262, -4.501299858093262, -4.501299858093262, -4.501299858093262, -4.501299858093262, -4.501299858093262, -4.501299858093262, -4.501299858093262, -4.501299858093262, -4.501299858093262, -4.501299858093262, -4.501299858093262, -4.501299858093262, -4.501299858093262, -4.501299858093262, -4.501299858093262, -4.501299858093262, -4.501299858093262, -4.501299858093262, -4.501500129699707, -4.501500129699707, -2.357300043106079, -2.357300043106079, -4.501299858093262, -4.371200084686279, -4.371200084686279, -4.371200084686279, -4.371200084686279, -4.371200084686279, -4.371200084686279, -4.371200084686279, -4.371200084686279, -4.371200084686279, -4.371200084686279, -4.371200084686279, -4.371200084686279, -4.371200084686279, -4.371200084686279, -4.371200084686279, -4.371200084686279, -4.371200084686279, -4.371200084686279, -4.371200084686279, -4.371200084686279, -4.371200084686279, -4.371200084686279, -4.371200084686279, -4.371200084686279, -4.371200084686279, -4.371300220489502, -4.371300220489502, -4.371300220489502, -4.371300220489502, -4.371300220489502, -3.39520001411438, -3.39520001411438, -4.370699882507324, -4.371200084686279, -4.371200084686279, -4.65369987487793, -4.65369987487793, -4.65369987487793, -4.65369987487793, -4.65369987487793, -4.65369987487793, -4.65369987487793, -4.65369987487793, -4.65369987487793, -4.65369987487793, -4.65369987487793, -4.65369987487793, -4.65369987487793, -4.65369987487793, -4.65369987487793, -4.65369987487793, -4.65369987487793, -4.65369987487793, -4.65369987487793, -4.65369987487793, -4.65369987487793, -4.65369987487793, -4.65369987487793, -4.653800010681152, -4.653800010681152, -4.653800010681152, -4.653800010681152, -4.653800010681152, -4.653800010681152, -4.653800010681152, -3.0127999782562256, -3.0127999782562256, -4.653600215911865, -4.65369987487793, -1.5268000364303589, -4.625999927520752, -4.625999927520752, -4.625999927520752, -4.625999927520752, -4.625999927520752, -4.625999927520752, -4.625999927520752, -4.625999927520752, -4.625999927520752, -4.625999927520752, -4.625999927520752, -4.625999927520752, -4.625999927520752, -4.625999927520752, -4.625999927520752, -4.625999927520752, -4.625999927520752, -4.625999927520752, -4.625999927520752, -4.625999927520752, -4.625999927520752, -4.625999927520752, -4.625999927520752, -4.625999927520752, -4.625999927520752, -4.625999927520752, -4.625999927520752, -4.625999927520752, -4.625999927520752, -3.644200086593628], \"loglift\": [30.0, 29.0, 28.0, 27.0, 26.0, 25.0, 24.0, 23.0, 22.0, 21.0, 20.0, 19.0, 18.0, 17.0, 16.0, 15.0, 14.0, 13.0, 12.0, 11.0, 10.0, 9.0, 8.0, 7.0, 6.0, 5.0, 4.0, 3.0, 2.0, 1.0, 1.0942000150680542, 0.9064000248908997, 0.9064000248908997, 0.9064000248908997, 0.9064000248908997, 0.9064000248908997, 0.9064000248908997, 0.9064000248908997, 0.9064000248908997, 0.9064000248908997, 0.9064000248908997, 0.9064000248908997, 0.9064000248908997, 0.9064000248908997, 0.9064000248908997, 0.9064000248908997, 0.9064000248908997, 0.9064000248908997, 0.9064000248908997, 0.9064000248908997, 0.9064000248908997, 0.9064000248908997, 0.9064000248908997, 0.9064000248908997, 0.9064000248908997, 0.9064000248908997, 0.9064000248908997, 0.9064000248908997, 0.9064000248908997, 0.9064000248908997, 0.9064000248908997, 0.8370000123977661, 0.40630000829696655, 0.013399999588727951, 0.013399999588727951, 1.2157000303268433, 1.2157000303268433, 1.2157000303268433, 1.2157000303268433, 1.2156000137329102, 1.2156000137329102, 1.2156000137329102, 1.2156000137329102, 1.2156000137329102, 1.2156000137329102, 1.2156000137329102, 1.2156000137329102, 1.2156000137329102, 1.2156000137329102, 1.2156000137329102, 1.2156000137329102, 1.2156000137329102, 1.2156000137329102, 1.2156000137329102, 1.2156000137329102, 1.2156000137329102, 1.2156000137329102, 1.2156000137329102, 1.2156000137329102, 1.2156000137329102, 1.2156000137329102, 1.2156000137329102, 1.2156000137329102, 1.215499997138977, 1.215399980545044, 0.7642999887466431, 0.7642999887466431, 0.7753999829292297, 1.3595000505447388, 1.3595000505447388, 1.3595000505447388, 1.3595000505447388, 1.3595000505447388, 1.3595000505447388, 1.3595000505447388, 1.3595000505447388, 1.3595000505447388, 1.3595000505447388, 1.3595000505447388, 1.3595000505447388, 1.3595000505447388, 1.3595000505447388, 1.3595000505447388, 1.3595000505447388, 1.3595000505447388, 1.3595000505447388, 1.3595000505447388, 1.3595000505447388, 1.3595000505447388, 1.3594000339508057, 1.3594000339508057, 1.3594000339508057, 1.3594000339508057, 1.3594000339508057, 1.3594000339508057, 1.3594000339508057, 1.3594000339508057, 1.3594000339508057, -0.2736000120639801, -0.2736000120639801, 0.9147999882698059, 0.9203000068664551, 0.9203000068664551, 1.0091999769210815, 1.0091999769210815, 1.0091999769210815, 1.0091999769210815, 1.0091999769210815, 1.0091999769210815, 1.0091999769210815, 1.0091999769210815, 1.0091999769210815, 1.0091999769210815, 1.0091999769210815, 1.0091999769210815, 1.0091999769210815, 1.0091999769210815, 1.0091999769210815, 1.0091999769210815, 1.0091999769210815, 1.0091999769210815, 1.0091999769210815, 1.0091999769210815, 1.0091999769210815, 1.0091999769210815, 1.0091999769210815, 1.0091999769210815, 1.0091999769210815, 1.0091999769210815, 1.0091999769210815, 1.0091999769210815, 1.0091999769210815, 1.0091999769210815, 0.1088000014424324, 0.1088000014424324, 0.6290000081062317, 0.6227999925613403, 1.5527000427246094, 1.0815000534057617, 1.0815000534057617, 1.0815000534057617, 1.0815000534057617, 1.0815000534057617, 1.0815000534057617, 1.0815000534057617, 1.0815000534057617, 1.0815000534057617, 1.0815000534057617, 1.0815000534057617, 1.0815000534057617, 1.0815000534057617, 1.0815000534057617, 1.0815000534057617, 1.0815000534057617, 1.0815000534057617, 1.0815000534057617, 1.0815000534057617, 1.0815000534057617, 1.0815000534057617, 1.0815000534057617, 1.0815000534057617, 1.0815000534057617, 1.0815000534057617, 1.0815000534057617, 1.0815000534057617, 1.0815000534057617, 1.0815000534057617, 0.5286999940872192]}, \"token.table\": {\"Topic\": [5, 1, 1, 4, 1, 3, 2, 3, 1, 3, 1, 5, 4, 1, 3, 2, 3, 1, 5, 4, 4, 5, 1, 3, 1, 4, 1, 2, 3, 4, 5, 4, 4, 5, 4, 5, 5, 1, 4, 2, 4, 2, 4, 1, 1, 1, 1, 1, 5, 4, 5, 3, 5, 1, 4, 1, 3, 3, 5, 4, 4, 5, 5, 3, 5, 5, 5, 4, 1, 2, 2, 2, 2, 2, 2, 2, 3, 2, 2, 2, 3, 3, 2, 3, 2, 3, 4, 3, 5, 1, 2, 3, 2, 5, 4, 1, 3, 4, 1, 2, 1, 4, 1, 3, 4, 1, 5, 3, 3, 4, 5, 1, 4, 1, 2, 3, 4, 2, 2, 2, 2, 2, 2, 2, 3, 2, 2, 2, 3, 5, 3, 4, 4, 3, 1, 1, 4, 3, 4, 5, 3, 4, 2, 3, 4, 2, 1, 4, 2, 1, 4, 3, 4, 5, 3, 5, 5, 5, 5, 3, 5, 1, 5, 5, 3, 3, 4, 1, 1, 3, 1, 3, 4, 5, 1, 4, 1], \"Freq\": [0.885662317276001, 0.839616596698761, 0.8396164774894714, 0.847021758556366, 0.8396169543266296, 0.9064184427261353, 0.894023597240448, 0.90641850233078, 0.8396168947219849, 0.906417727470398, 0.8396163582801819, 0.8856623768806458, 0.8470221757888794, 0.4272015690803528, 0.4272015690803528, 0.8940240740776062, 0.90641850233078, 0.8396167755126953, 0.8856624960899353, 0.847022533416748, 0.8470223546028137, 0.8856623768806458, 0.8396168947219849, 0.9064186215400696, 0.8396168947219849, 0.8470216989517212, 0.2668556571006775, 0.40028348565101624, 0.13342782855033875, 0.2668556571006775, 0.9593867063522339, 0.8470212817192078, 0.8470214009284973, 0.8856623768806458, 0.8470216989517212, 0.8856625556945801, 0.8856623768806458, 0.8396165370941162, 0.8470216989517212, 0.5790727138519287, 0.5790727138519287, 0.8940271139144897, 0.8470216989517212, 0.8396168947219849, 0.8396169543266296, 0.8396169543266296, 0.5525503158569336, 0.8396170139312744, 0.8856623768806458, 0.847021758556366, 0.8856621980667114, 0.9064183235168457, 0.8856625556945801, 0.8396165370941162, 0.8470214009284973, 0.5807346701622009, 0.5807346701622009, 0.90641850233078, 0.8856625556945801, 0.8470216989517212, 0.8470216989517212, 0.885662317276001, 0.8856623768806458, 0.90641850233078, 0.8856624960899353, 0.8856625556945801, 0.885662317276001, 0.8470218777656555, 0.8396169543266296, 0.8940238356590271, 0.8940239548683167, 0.8940238356590271, 0.8940238356590271, 0.8940240740776062, 0.8940240740776062, 0.8940238356590271, 0.9064175486564636, 0.8940239548683167, 0.8940239548683167, 0.8940239548683167, 0.9064175486564636, 0.9064183235168457, 0.894024133682251, 0.906417727470398, 0.8940242528915405, 0.9064183235168457, 0.847021758556366, 0.9064181447029114, 0.8856625556945801, 0.8396168947219849, 0.894023597240448, 0.9064182639122009, 0.894023597240448, 0.8856625556945801, 0.847021758556366, 0.8396170139312744, 0.5842493772506714, 0.5842493772506714, 0.5756120681762695, 0.5756120681762695, 0.8396167755126953, 0.8470219969749451, 0.8396169543266296, 0.9064183235168457, 0.8470213413238525, 0.8396168947219849, 0.8856620788574219, 0.906417727470398, 0.90641850233078, 0.8470213413238525, 0.8856621980667114, 0.8396165370941162, 0.8470219969749451, 0.26685571670532227, 0.4002835750579834, 0.13342785835266113, 0.26685571670532227, 0.8940238356590271, 0.8940239548683167, 0.8940237760543823, 0.8940238356590271, 0.8940238356590271, 0.8940239548683167, 0.8940238356590271, 0.9064176678657532, 0.8940238356590271, 0.8940237760543823, 0.8940239548683167, 0.9064175486564636, 0.8856624960899353, 0.9064181447029114, 0.8470213413238525, 0.847021758556366, 0.9064184427261353, 0.8396168947219849, 0.8396165370941162, 0.8470214009284973, 0.9064183235168457, 0.5755532383918762, 0.5755532383918762, 0.9064180254936218, 0.8470214009284973, 0.894027590751648, 0.9064181447029114, 0.8470221161842346, 0.894024133682251, 0.8396169543266296, 0.8470214009284973, 0.8940240740776062, 0.8396163582801819, 0.8470214009284973, 0.5842496752738953, 0.5842496752738953, 0.8856621980667114, 0.9064183235168457, 0.885662317276001, 0.8856623768806458, 0.8856625556945801, 0.8856624960899353, 0.9064184427261353, 0.8856623768806458, 0.8396165370941162, 0.8856623768806458, 0.885662317276001, 0.9064180254936218, 0.9064183235168457, 0.8470216989517212, 0.839617133140564, 0.8396168947219849, 0.9064174294471741, 0.3817945420742035, 0.19089727103710175, 0.19089727103710175, 0.3817945420742035, 0.8396169543266296, 0.8470221161842346, 0.8396169543266296], \"Term\": [\"accelerate\", \"adc.</td\", \"amplifier\", \"amplifiers.</td\", \"analysis\", \"applications.</td\", \"architecture.</td\", \"array\", \"assurance\", \"astable\", \"background\", \"backprojections.</td\", \"bandgap\", \"base\", \"base\", \"base</td\", \"beamfoming\", \"bodyt2\", \"boltzmann\", \"border\", \"bottom-0\", \"boundary\", \"branch\", \"broadband\", \"bsns.</td\", \"class\", \"class=\\\"blob\", \"class=\\\"blob\", \"class=\\\"blob\", \"class=\\\"blob\", \"class=\\\"js\", \"codepipe\", \"coding.</td\", \"coherence\", \"comparator\", \"complex\", \"computation\", \"correction\", \"database\", \"databases.</td\", \"databases.</td\", \"deductive\", \"definition\", \"delay\", \"design\", \"detection\", \"digital\", \"discrete\", \"divider.</td\", \"efficiency\", \"egress\", \"electronic\", \"enable\", \"error\", \"feeding\", \"filter\", \"filter\", \"filters.</td\", \"fluid\", \"formal\", \"formalization\", \"fpga&#39;s.</td\", \"frequency\", \"frustum\", \"geometry\", \"gpus.</td\", \"hardware\", \"hearing\", \"heterogeneous\", \"id=\\\"l1117\", \"id=\\\"l1129\", \"id=\\\"l1341\", \"id=\\\"l1354\", \"id=\\\"l1664\", \"id=\\\"l1689\", \"id=\\\"l1824\", \"id=\\\"l1964\", \"id=\\\"l2201\", \"id=\\\"l2405\", \"id=\\\"l354\", \"id=\\\"l714\", \"implementation\", \"incomplete\", \"inductively\", \"information\", \"interferometry\", \"invite\", \"kuramoto\", \"lattice\", \"leaf\", \"leboned\", \"match\", \"metadata\", \"method\", \"micropower\", \"minimax\", \"model\", \"model\", \"modelling\", \"modelling\", \"models.</td\", \"mosfet\", \"move\", \"multi\", \"multicast\", \"multicell\", \"multihomed\", \"multivibrator.</td\", \"nest\", \"network\", \"networks.</td\", \"nonlinearity\", \"novel\", \"number\", \"number\", \"number\", \"number\", \"number=\\\"1117\\\"></td\", \"number=\\\"1129\\\"></td\", \"number=\\\"1341\\\"></td\", \"number=\\\"1354\\\"></td\", \"number=\\\"1664\\\"></td\", \"number=\\\"1689\\\"></td\", \"number=\\\"1824\\\"></td\", \"number=\\\"1964\\\"></td\", \"number=\\\"2201\\\"></td\", \"number=\\\"2405\\\"></td\", \"number=\\\"354\\\"></td\", \"number=\\\"714\\\"></td\", \"numerical\", \"ontology\", \"opportunistic\", \"paper).</td\", \"pattern\", \"performance\", \"pipeline\", \"pipelined\", \"planar\", \"power\", \"power\", \"property.</td\", \"protocol\", \"query\", \"rdbms.</td\", \"reference.</td\", \"relational\", \"relaxation\", \"reliable\", \"represent\", \"residue\", \"route\", \"scale\", \"scale\", \"selection\", \"semantic\", \"shaders\", \"shadow\", \"simulation\", \"spatial\", \"speckle\", \"speed\", \"split\", \"static\", \"sub-1v\", \"supporting\", \"synchronization\", \"system\", \"technique.</td\", \"throughput\", \"tune\", \"using\", \"using\", \"using\", \"using\", \"video.</td\", \"voltage\", \"wavelet\"]}, \"R\": 30, \"lambda.step\": 0.01, \"plot.opts\": {\"xlab\": \"PC1\", \"ylab\": \"PC2\"}, \"topic.order\": [1, 2, 3, 4, 5]};\n",
              "\n",
              "function LDAvis_load_lib(url, callback){\n",
              "  var s = document.createElement('script');\n",
              "  s.src = url;\n",
              "  s.async = true;\n",
              "  s.onreadystatechange = s.onload = callback;\n",
              "  s.onerror = function(){console.warn(\"failed to load library \" + url);};\n",
              "  document.getElementsByTagName(\"head\")[0].appendChild(s);\n",
              "}\n",
              "\n",
              "if(typeof(LDAvis) !== \"undefined\"){\n",
              "   // already loaded: just create the visualization\n",
              "   !function(LDAvis){\n",
              "       new LDAvis(\"#\" + \"ldavis_el1221399931766205129181386254\", ldavis_el1221399931766205129181386254_data);\n",
              "   }(LDAvis);\n",
              "}else if(typeof define === \"function\" && define.amd){\n",
              "   // require.js is available: use it to load d3/LDAvis\n",
              "   require.config({paths: {d3: \"https://cdnjs.cloudflare.com/ajax/libs/d3/3.5.5/d3.min\"}});\n",
              "   require([\"d3\"], function(d3){\n",
              "      window.d3 = d3;\n",
              "      LDAvis_load_lib(\"https://cdn.rawgit.com/bmabey/pyLDAvis/files/ldavis.v1.0.0.js\", function(){\n",
              "        new LDAvis(\"#\" + \"ldavis_el1221399931766205129181386254\", ldavis_el1221399931766205129181386254_data);\n",
              "      });\n",
              "    });\n",
              "}else{\n",
              "    // require.js not available: dynamically load d3 & LDAvis\n",
              "    LDAvis_load_lib(\"https://cdnjs.cloudflare.com/ajax/libs/d3/3.5.5/d3.min.js\", function(){\n",
              "         LDAvis_load_lib(\"https://cdn.rawgit.com/bmabey/pyLDAvis/files/ldavis.v1.0.0.js\", function(){\n",
              "                 new LDAvis(\"#\" + \"ldavis_el1221399931766205129181386254\", ldavis_el1221399931766205129181386254_data);\n",
              "            })\n",
              "         });\n",
              "}\n",
              "</script>"
            ],
            "text/plain": [
              "<IPython.core.display.HTML object>"
            ]
          },
          "metadata": {
            "tags": []
          },
          "execution_count": 25
        }
      ]
    },
    {
      "cell_type": "markdown",
      "metadata": {
        "id": "TG1GDbxqDhDB",
        "colab_type": "text"
      },
      "source": [
        "Saliency: a measure of how much the term tells you about the topic.\n",
        "\n",
        "\n",
        "Relevance: a weighted average of the probability of the word given the topic and the word given the topic normalized by the probability of the topic.\n",
        "\n",
        "\n",
        "The size of the bubble measures the importance of the topics, relative to the data.\n",
        "\n",
        "\n",
        "First, we got the most salient terms, means terms mostly tell us about what’s going on relative to the topics. We can also look at individual topic."
      ]
    },
    {
      "cell_type": "code",
      "metadata": {
        "id": "SxFlnkDVB-q-",
        "colab_type": "code",
        "colab": {
          "base_uri": "https://localhost:8080/",
          "height": 914
        },
        "outputId": "84209e93-03bd-4d59-d711-370c48c284c3"
      },
      "source": [
        "#Visualizing 3 topics:\n",
        "\n",
        "lda3 = gensim.models.ldamodel.LdaModel.load('model3.gensim')\n",
        "lda_display3 = pyLDAvis.gensim.prepare(lda3, corpus, dictionary, sort_topics=False)\n",
        "pyLDAvis.display(lda_display3)"
      ],
      "execution_count": 26,
      "outputs": [
        {
          "output_type": "stream",
          "text": [
            "/usr/local/lib/python3.6/dist-packages/smart_open/smart_open_lib.py:253: UserWarning: This function is deprecated, use smart_open.open instead. See the migration notes for details: https://github.com/RaRe-Technologies/smart_open/blob/master/README.rst#migrating-to-the-new-open-function\n",
            "  'See the migration notes for details: %s' % _MIGRATION_NOTES_URL\n"
          ],
          "name": "stderr"
        },
        {
          "output_type": "execute_result",
          "data": {
            "text/html": [
              "\n",
              "<link rel=\"stylesheet\" type=\"text/css\" href=\"https://cdn.rawgit.com/bmabey/pyLDAvis/files/ldavis.v1.0.0.css\">\n",
              "\n",
              "\n",
              "<div id=\"ldavis_el1221399931568187686220936784\"></div>\n",
              "<script type=\"text/javascript\">\n",
              "\n",
              "var ldavis_el1221399931568187686220936784_data = {\"mdsDat\": {\"x\": [-0.016647925521593575, -0.10744671585339131, 0.12409464137498492], \"y\": [-0.09389919877690403, 0.05707668998570555, 0.03682250879119847], \"topics\": [1, 2, 3], \"cluster\": [1, 1, 1], \"Freq\": [20.486629486083984, 28.564029693603516, 50.9493408203125]}, \"tinfo\": {\"Term\": [\"class=\\\"js\", \"class=\\\"blob\", \"number\", \"interferometry\", \"implementation\", \"speckle\", \"applications.</td\", \"electronic\", \"pattern\", \"ontology\", \"supporting\", \"semantic\", \"match\", \"rdbms.</td\", \"relational\", \"represent\", \"incomplete\", \"information\", \"base</td\", \"database\", \"formal\", \"paper).</td\", \"definition\", \"astable\", \"system\", \"formalization\", \"tune\", \"inductively\", \"border\", \"multivibrator.</td\", \"interferometry\", \"implementation\", \"speckle\", \"applications.</td\", \"electronic\", \"pattern\", \"ontology\", \"supporting\", \"semantic\", \"match\", \"rdbms.</td\", \"relational\", \"represent\", \"incomplete\", \"information\", \"base</td\", \"database\", \"formal\", \"astable\", \"paper).</td\", \"tune\", \"definition\", \"inductively\", \"border\", \"multivibrator.</td\", \"bottom-0\", \"system\", \"class=\\\"border\", \"formalization\", \"invite\", \"base\", \"filter\", \"power\", \"class=\\\"js\", \"complex\", \"video.</td\", \"branch\", \"leaf\", \"move\", \"wavelet\", \"detection\", \"fluid\", \"boltzmann\", \"enable\", \"simulation\", \"gpus.</td\", \"numerical\", \"lattice\", \"method\", \"geometry\", \"architectural\", \"visualize\", \"topic\", \"nest\", \"image\", \"organize\", \"large\", \"statistical\", \"frustum\", \"broadband\", \"beamfoming\", \"planar\", \"filters.</td\", \"using\", \"model\", \"scale\", \"databases.</td\", \"base\", \"class=\\\"blob\", \"number\", \"digital\", \"modelling\", \"network\", \"reliable\", \"coding.</td\", \"codepipe\", \"opportunistic\", \"protocol\", \"multicast\", \"route\", \"correction\", \"feeding\", \"residue\", \"pipelined\", \"amplifier\", \"pipeline\", \"error\", \"background\", \"split\", \"nonlinearity\", \"adc.</td\", \"bsns.</td\", \"assurance\", \"performance\", \"throughput\", \"heterogeneous\", \"bodyt2\", \"multicell\", \"using\"], \"Freq\": [14.0, 16.0, 16.0, 1.0, 1.0, 1.0, 1.0, 1.0, 1.0, 1.0, 1.0, 1.0, 1.0, 1.0, 1.0, 1.0, 1.0, 1.0, 1.0, 1.0, 1.0, 1.0, 1.0, 1.0, 1.0, 1.0, 1.0, 1.0, 1.0, 1.0, 0.6525841355323792, 0.6525761485099792, 0.6525712609291077, 0.652569591999054, 0.6525671482086182, 0.6525585055351257, 0.6525320410728455, 0.6525313854217529, 0.6525293588638306, 0.6525286436080933, 0.6525197625160217, 0.6524884700775146, 0.6524869203567505, 0.6524859666824341, 0.6524851322174072, 0.6524835824966431, 0.6524637341499329, 0.6524292826652527, 0.6524102091789246, 0.652421772480011, 0.6524080038070679, 0.6524200439453125, 0.6524059176445007, 0.652405321598053, 0.6524044275283813, 0.6523990631103516, 0.652411699295044, 0.6523961424827576, 0.652410089969635, 0.65240079164505, 0.6606507897377014, 0.6578843593597412, 0.6572667360305786, 14.5483980178833, 0.7097998261451721, 0.7097651958465576, 0.7097642421722412, 0.7097632884979248, 0.7097591757774353, 0.7097533941268921, 0.709753155708313, 0.7097376585006714, 0.7097168564796448, 0.7097095847129822, 0.7097072601318359, 0.70970618724823, 0.7097024321556091, 0.7096686959266663, 0.7096620202064514, 0.7096493244171143, 0.7096364498138428, 0.7095823884010315, 0.7095062732696533, 0.7095564007759094, 0.7094930410385132, 0.7094792723655701, 0.7094449996948242, 0.7094317674636841, 0.7094908356666565, 0.7094848155975342, 0.7094820737838745, 0.7094672322273254, 0.7094570994377136, 1.78300940990448, 0.7158912420272827, 0.7158867716789246, 0.7145798802375793, 0.7136101126670837, 16.44151496887207, 16.440370559692383, 1.522335171699524, 1.5221903324127197, 0.8697853088378906, 0.8697812557220459, 0.8697794079780579, 0.8697787523269653, 0.869776725769043, 0.8697759509086609, 0.8697733283042908, 0.8697736859321594, 0.8697730302810669, 0.8697730898857117, 0.8697720766067505, 0.8697711229324341, 0.8697665929794312, 0.8697652220726013, 0.8697614073753357, 0.8697566390037537, 0.8697532415390015, 0.8697383403778076, 0.8697378635406494, 0.8695604205131531, 0.8695549368858337, 0.8695540428161621, 0.8695529103279114, 0.8695518374443054, 0.869543731212616, 0.8695443272590637, 3.4700660705566406], \"Total\": [14.0, 16.0, 16.0, 1.0, 1.0, 1.0, 1.0, 1.0, 1.0, 1.0, 1.0, 1.0, 1.0, 1.0, 1.0, 1.0, 1.0, 1.0, 1.0, 1.0, 1.0, 1.0, 1.0, 1.0, 1.0, 1.0, 1.0, 1.0, 1.0, 1.0, 1.0479665994644165, 1.0479681491851807, 1.0479695796966553, 1.0479698181152344, 1.0479695796966553, 1.0479717254638672, 1.0479758977890015, 1.0479758977890015, 1.0479766130447388, 1.0479769706726074, 1.047978162765503, 1.0479838848114014, 1.0479838848114014, 1.0479850769042969, 1.0479846000671387, 1.0479851961135864, 1.048006296157837, 1.0480167865753174, 1.0479990243911743, 1.0480200052261353, 1.0479989051818848, 1.048020362854004, 1.0479995012283325, 1.0479998588562012, 1.0480000972747803, 1.0480016469955444, 1.0480221509933472, 1.048001766204834, 1.0480241775512695, 1.0480265617370605, 2.229869842529297, 1.698857069015503, 1.6989871263504028, 14.93886661529541, 1.090928316116333, 1.0909409523010254, 1.0909405946731567, 1.090941309928894, 1.0909401178359985, 1.0909409523010254, 1.0909414291381836, 1.090923547744751, 1.0909223556518555, 1.09092116355896, 1.090922474861145, 1.09092116355896, 1.0909209251403809, 1.0909183025360107, 1.0909175872802734, 1.0909174680709839, 1.0909184217453003, 1.0909137725830078, 1.0909079313278198, 1.0910030603408813, 1.0909067392349243, 1.0909054279327393, 1.0909031629562378, 1.0909020900726318, 1.0910179615020752, 1.0910186767578125, 1.0910189151763916, 1.091022253036499, 1.0910249948501587, 5.417608261108398, 1.7420740127563477, 1.742067575454712, 1.7423322200775146, 2.229869842529297, 16.85355567932129, 16.8532772064209, 1.8636071681976318, 1.863577127456665, 1.2109241485595703, 1.2109233140945435, 1.2109229564666748, 1.2109228372573853, 1.2109222412109375, 1.210922122001648, 1.2109215259552002, 1.2109220027923584, 1.2109211683273315, 1.2109214067459106, 1.2109209299087524, 1.210921287536621, 1.2109194993972778, 1.2109193801879883, 1.2109184265136719, 1.2109172344207764, 1.2109166383743286, 1.210912823677063, 1.2109127044677734, 1.2108745574951172, 1.2108733654022217, 1.2108731269836426, 1.210873007774353, 1.2108725309371948, 1.2108707427978516, 1.2108718156814575, 5.417608261108398], \"Category\": [\"Default\", \"Default\", \"Default\", \"Default\", \"Default\", \"Default\", \"Default\", \"Default\", \"Default\", \"Default\", \"Default\", \"Default\", \"Default\", \"Default\", \"Default\", \"Default\", \"Default\", \"Default\", \"Default\", \"Default\", \"Default\", \"Default\", \"Default\", \"Default\", \"Default\", \"Default\", \"Default\", \"Default\", \"Default\", \"Default\", \"Topic1\", \"Topic1\", \"Topic1\", \"Topic1\", \"Topic1\", \"Topic1\", \"Topic1\", \"Topic1\", \"Topic1\", \"Topic1\", \"Topic1\", \"Topic1\", \"Topic1\", \"Topic1\", \"Topic1\", \"Topic1\", \"Topic1\", \"Topic1\", \"Topic1\", \"Topic1\", \"Topic1\", \"Topic1\", \"Topic1\", \"Topic1\", \"Topic1\", \"Topic1\", \"Topic1\", \"Topic1\", \"Topic1\", \"Topic1\", \"Topic1\", \"Topic1\", \"Topic1\", \"Topic2\", \"Topic2\", \"Topic2\", \"Topic2\", \"Topic2\", \"Topic2\", \"Topic2\", \"Topic2\", \"Topic2\", \"Topic2\", \"Topic2\", \"Topic2\", \"Topic2\", \"Topic2\", \"Topic2\", \"Topic2\", \"Topic2\", \"Topic2\", \"Topic2\", \"Topic2\", \"Topic2\", \"Topic2\", \"Topic2\", \"Topic2\", \"Topic2\", \"Topic2\", \"Topic2\", \"Topic2\", \"Topic2\", \"Topic2\", \"Topic2\", \"Topic2\", \"Topic2\", \"Topic2\", \"Topic2\", \"Topic3\", \"Topic3\", \"Topic3\", \"Topic3\", \"Topic3\", \"Topic3\", \"Topic3\", \"Topic3\", \"Topic3\", \"Topic3\", \"Topic3\", \"Topic3\", \"Topic3\", \"Topic3\", \"Topic3\", \"Topic3\", \"Topic3\", \"Topic3\", \"Topic3\", \"Topic3\", \"Topic3\", \"Topic3\", \"Topic3\", \"Topic3\", \"Topic3\", \"Topic3\", \"Topic3\", \"Topic3\", \"Topic3\", \"Topic3\", \"Topic3\"], \"logprob\": [30.0, 29.0, 28.0, 27.0, 26.0, 25.0, 24.0, 23.0, 22.0, 21.0, 20.0, 19.0, 18.0, 17.0, 16.0, 15.0, 14.0, 13.0, 12.0, 11.0, 10.0, 9.0, 8.0, 7.0, 6.0, 5.0, 4.0, 3.0, 2.0, 1.0, -4.670400142669678, -4.670400142669678, -4.670400142669678, -4.670400142669678, -4.670400142669678, -4.670400142669678, -4.670400142669678, -4.670400142669678, -4.670400142669678, -4.670400142669678, -4.670499801635742, -4.670499801635742, -4.670499801635742, -4.670499801635742, -4.670499801635742, -4.670499801635742, -4.670499801635742, -4.670599937438965, -4.670599937438965, -4.670599937438965, -4.670599937438965, -4.670599937438965, -4.670599937438965, -4.670599937438965, -4.670599937438965, -4.670599937438965, -4.670599937438965, -4.6707000732421875, -4.670599937438965, -4.670599937438965, -4.658100128173828, -4.662300109863281, -4.6631999015808105, -1.8983999490737915, -4.918700218200684, -4.918700218200684, -4.918700218200684, -4.918700218200684, -4.918799877166748, -4.918799877166748, -4.918799877166748, -4.918799877166748, -4.918799877166748, -4.918799877166748, -4.918799877166748, -4.918799877166748, -4.918799877166748, -4.918900012969971, -4.918900012969971, -4.918900012969971, -4.918900012969971, -4.919000148773193, -4.919099807739258, -4.919000148773193, -4.919099807739258, -4.919099807739258, -4.9191999435424805, -4.9191999435424805, -4.919099807739258, -4.919099807739258, -4.919099807739258, -4.9191999435424805, -4.9191999435424805, -3.9976000785827637, -4.910200119018555, -4.910200119018555, -4.9120001792907715, -4.913300037384033, -2.35479998588562, -2.3548998832702637, -4.734399795532227, -4.734499931335449, -5.294099807739258, -5.294099807739258, -5.294099807739258, -5.294099807739258, -5.294099807739258, -5.294099807739258, -5.294099807739258, -5.294099807739258, -5.294099807739258, -5.294099807739258, -5.294099807739258, -5.294099807739258, -5.294099807739258, -5.294099807739258, -5.294099807739258, -5.294099807739258, -5.2941999435424805, -5.2941999435424805, -5.2941999435424805, -5.294400215148926, -5.294400215148926, -5.294400215148926, -5.294400215148926, -5.294400215148926, -5.294400215148926, -5.294400215148926, -3.910399913787842], \"loglift\": [30.0, 29.0, 28.0, 27.0, 26.0, 25.0, 24.0, 23.0, 22.0, 21.0, 20.0, 19.0, 18.0, 17.0, 16.0, 15.0, 14.0, 13.0, 12.0, 11.0, 10.0, 9.0, 8.0, 7.0, 6.0, 5.0, 4.0, 3.0, 2.0, 1.0, 1.1117000579833984, 1.1117000579833984, 1.1117000579833984, 1.1117000579833984, 1.1117000579833984, 1.1117000579833984, 1.1116000413894653, 1.1116000413894653, 1.1116000413894653, 1.1116000413894653, 1.1116000413894653, 1.1116000413894653, 1.1116000413894653, 1.1116000413894653, 1.1116000413894653, 1.1116000413894653, 1.1115000247955322, 1.1114000082015991, 1.1114000082015991, 1.1114000082015991, 1.1114000082015991, 1.1114000082015991, 1.1114000082015991, 1.1114000082015991, 1.1114000082015991, 1.1114000082015991, 1.1114000082015991, 1.1114000082015991, 1.1114000082015991, 1.1114000082015991, 0.36890000104904175, 0.6366999745368958, 0.635699987411499, 1.2265000343322754, 0.823199987411499, 0.823199987411499, 0.823199987411499, 0.823199987411499, 0.823199987411499, 0.8230999708175659, 0.8230999708175659, 0.8230999708175659, 0.8230999708175659, 0.8230999708175659, 0.8230999708175659, 0.8230999708175659, 0.8230999708175659, 0.8230000138282776, 0.8230000138282776, 0.8230000138282776, 0.8230000138282776, 0.8228999972343445, 0.8227999806404114, 0.8227999806404114, 0.8227999806404114, 0.8227999806404114, 0.822700023651123, 0.822700023651123, 0.822700023651123, 0.822700023651123, 0.822700023651123, 0.822700023651123, 0.8226000070571899, 0.14169999957084656, 0.3637000024318695, 0.3637000024318695, 0.36169999837875366, 0.1137000024318695, 0.6496000289916992, 0.6495000123977661, 0.47209998965263367, 0.47200000286102295, 0.3434000015258789, 0.3434000015258789, 0.3434000015258789, 0.3434000015258789, 0.3434000015258789, 0.3434000015258789, 0.3434000015258789, 0.3434000015258789, 0.3434000015258789, 0.3434000015258789, 0.3434000015258789, 0.3434000015258789, 0.3434000015258789, 0.3434000015258789, 0.3434000015258789, 0.3434000015258789, 0.3434000015258789, 0.3434000015258789, 0.3434000015258789, 0.3431999981403351, 0.3431999981403351, 0.3431999981403351, 0.3431999981403351, 0.3431999981403351, 0.3431999981403351, 0.3431999981403351, 0.2289000004529953]}, \"token.table\": {\"Topic\": [3, 3, 1, 2, 3, 1, 3, 1, 2, 3, 1, 2, 3, 2, 1, 1, 2, 2, 3, 3, 1, 2, 3, 3, 2, 3, 1, 2, 3, 1, 2, 3, 1, 2, 3, 3, 1, 3, 2, 2, 1, 1, 2, 2, 2, 3, 2, 1, 1, 1, 1, 1, 1, 2, 2, 2, 1, 2, 2, 3, 3, 2, 3, 3, 1, 2, 3, 3, 3, 2, 1, 3, 2, 1, 1, 3, 3, 3, 2, 1, 3, 3, 1, 1, 3, 1, 3, 3, 2, 3, 1, 2, 1, 3, 2, 1, 1, 3, 2, 1, 2, 3, 2, 2, 2], \"Freq\": [0.8258233666419983, 0.8258187174797058, 0.9542259573936462, 0.9166588187217712, 0.8258501887321472, 0.9541993737220764, 0.82582026720047, 0.44845667481422424, 0.44845667481422424, 0.44845667481422424, 0.954211950302124, 0.9165744185447693, 0.8258519768714905, 0.9166555404663086, 0.9541985988616943, 0.9541969895362854, 0.9166402220726013, 0.9165745973587036, 0.8258493542671204, 0.9493545889854431, 0.9541968703269958, 1.0040922164916992, 0.8258164525032043, 0.8258163928985596, 0.9166505336761475, 0.8258175849914551, 0.9541927576065063, 0.5739433765411377, 0.5739433765411377, 0.9541799426078796, 0.916639506816864, 1.0731875896453857, 0.9542261958122253, 0.916656494140625, 0.8258194327354431, 0.8258174061775208, 0.5886310338973999, 0.5886310338973999, 0.9165692925453186, 0.9166545271873474, 0.9541831612586975, 0.9541764855384827, 0.9165751934051514, 0.9166596531867981, 0.916656494140625, 0.825850784778595, 0.9166686534881592, 0.9542274475097656, 0.9542120695114136, 0.954198956489563, 0.954212486743927, 0.9542288780212402, 0.954174280166626, 0.916671633720398, 0.9166589379310608, 0.9166395664215088, 0.9542194604873657, 0.9166595339775085, 0.5740284323692322, 0.5740284323692322, 1.0732048749923706, 0.91664057970047, 0.825817346572876, 0.8258512616157532, 0.9541983604431152, 0.9165877103805542, 0.8258155584335327, 0.8258233070373535, 0.949370265007019, 0.9166567325592041, 0.9542204141616821, 0.8258168697357178, 0.9166697263717651, 0.9541802406311035, 0.9542242288589478, 0.8258503675460815, 0.8258188366889954, 0.8258175253868103, 0.9165716171264648, 0.5885859727859497, 0.5885859727859497, 0.8258169293403625, 0.954218327999115, 0.9542131423950195, 0.8258161544799805, 0.9542131423950195, 0.8258177638053894, 0.8258170485496521, 0.5740305185317993, 0.5740305185317993, 0.9542197585105896, 0.916655421257019, 0.9542261958122253, 0.8258206844329834, 0.9166725277900696, 0.9542204141616821, 0.9541783332824707, 0.8258504271507263, 0.916667640209198, 0.954199492931366, 0.3691665828227997, 0.5537499189376831, 0.9166399240493774, 0.9166627526283264, 0.9166399240493774], \"Term\": [\"adc.</td\", \"amplifier\", \"applications.</td\", \"architectural\", \"assurance\", \"astable\", \"background\", \"base\", \"base\", \"base\", \"base</td\", \"beamfoming\", \"bodyt2\", \"boltzmann\", \"border\", \"bottom-0\", \"branch\", \"broadband\", \"bsns.</td\", \"class=\\\"blob\", \"class=\\\"border\", \"class=\\\"js\", \"codepipe\", \"coding.</td\", \"complex\", \"correction\", \"database\", \"databases.</td\", \"databases.</td\", \"definition\", \"detection\", \"digital\", \"electronic\", \"enable\", \"error\", \"feeding\", \"filter\", \"filter\", \"filters.</td\", \"fluid\", \"formal\", \"formalization\", \"frustum\", \"geometry\", \"gpus.</td\", \"heterogeneous\", \"image\", \"implementation\", \"incomplete\", \"inductively\", \"information\", \"interferometry\", \"invite\", \"large\", \"lattice\", \"leaf\", \"match\", \"method\", \"model\", \"model\", \"modelling\", \"move\", \"multicast\", \"multicell\", \"multivibrator.</td\", \"nest\", \"network\", \"nonlinearity\", \"number\", \"numerical\", \"ontology\", \"opportunistic\", \"organize\", \"paper).</td\", \"pattern\", \"performance\", \"pipeline\", \"pipelined\", \"planar\", \"power\", \"power\", \"protocol\", \"rdbms.</td\", \"relational\", \"reliable\", \"represent\", \"residue\", \"route\", \"scale\", \"scale\", \"semantic\", \"simulation\", \"speckle\", \"split\", \"statistical\", \"supporting\", \"system\", \"throughput\", \"topic\", \"tune\", \"using\", \"using\", \"video.</td\", \"visualize\", \"wavelet\"]}, \"R\": 30, \"lambda.step\": 0.01, \"plot.opts\": {\"xlab\": \"PC1\", \"ylab\": \"PC2\"}, \"topic.order\": [1, 2, 3]};\n",
              "\n",
              "function LDAvis_load_lib(url, callback){\n",
              "  var s = document.createElement('script');\n",
              "  s.src = url;\n",
              "  s.async = true;\n",
              "  s.onreadystatechange = s.onload = callback;\n",
              "  s.onerror = function(){console.warn(\"failed to load library \" + url);};\n",
              "  document.getElementsByTagName(\"head\")[0].appendChild(s);\n",
              "}\n",
              "\n",
              "if(typeof(LDAvis) !== \"undefined\"){\n",
              "   // already loaded: just create the visualization\n",
              "   !function(LDAvis){\n",
              "       new LDAvis(\"#\" + \"ldavis_el1221399931568187686220936784\", ldavis_el1221399931568187686220936784_data);\n",
              "   }(LDAvis);\n",
              "}else if(typeof define === \"function\" && define.amd){\n",
              "   // require.js is available: use it to load d3/LDAvis\n",
              "   require.config({paths: {d3: \"https://cdnjs.cloudflare.com/ajax/libs/d3/3.5.5/d3.min\"}});\n",
              "   require([\"d3\"], function(d3){\n",
              "      window.d3 = d3;\n",
              "      LDAvis_load_lib(\"https://cdn.rawgit.com/bmabey/pyLDAvis/files/ldavis.v1.0.0.js\", function(){\n",
              "        new LDAvis(\"#\" + \"ldavis_el1221399931568187686220936784\", ldavis_el1221399931568187686220936784_data);\n",
              "      });\n",
              "    });\n",
              "}else{\n",
              "    // require.js not available: dynamically load d3 & LDAvis\n",
              "    LDAvis_load_lib(\"https://cdnjs.cloudflare.com/ajax/libs/d3/3.5.5/d3.min.js\", function(){\n",
              "         LDAvis_load_lib(\"https://cdn.rawgit.com/bmabey/pyLDAvis/files/ldavis.v1.0.0.js\", function(){\n",
              "                 new LDAvis(\"#\" + \"ldavis_el1221399931568187686220936784\", ldavis_el1221399931568187686220936784_data);\n",
              "            })\n",
              "         });\n",
              "}\n",
              "</script>"
            ],
            "text/plain": [
              "<IPython.core.display.HTML object>"
            ]
          },
          "metadata": {
            "tags": []
          },
          "execution_count": 26
        }
      ]
    },
    {
      "cell_type": "code",
      "metadata": {
        "id": "Vnibj2i6ECqS",
        "colab_type": "code",
        "colab": {
          "base_uri": "https://localhost:8080/",
          "height": 914
        },
        "outputId": "75fc75cc-4237-479b-fadc-45e26754437b"
      },
      "source": [
        "#Visualizing 10 topics:\n",
        "lda10 = gensim.models.ldamodel.LdaModel.load('model10.gensim')\n",
        "lda_display10 = pyLDAvis.gensim.prepare(lda10, corpus, dictionary, sort_topics=False)\n",
        "pyLDAvis.display(lda_display10)"
      ],
      "execution_count": 27,
      "outputs": [
        {
          "output_type": "stream",
          "text": [
            "/usr/local/lib/python3.6/dist-packages/smart_open/smart_open_lib.py:253: UserWarning: This function is deprecated, use smart_open.open instead. See the migration notes for details: https://github.com/RaRe-Technologies/smart_open/blob/master/README.rst#migrating-to-the-new-open-function\n",
            "  'See the migration notes for details: %s' % _MIGRATION_NOTES_URL\n"
          ],
          "name": "stderr"
        },
        {
          "output_type": "execute_result",
          "data": {
            "text/html": [
              "\n",
              "<link rel=\"stylesheet\" type=\"text/css\" href=\"https://cdn.rawgit.com/bmabey/pyLDAvis/files/ldavis.v1.0.0.css\">\n",
              "\n",
              "\n",
              "<div id=\"ldavis_el1221399931568199682517873705\"></div>\n",
              "<script type=\"text/javascript\">\n",
              "\n",
              "var ldavis_el1221399931568199682517873705_data = {\"mdsDat\": {\"x\": [-0.03480600551942144, 0.1318026363554347, 0.24850764697959654, -0.04022272400894008, -0.050417256676046344, -0.10962982005937452, -0.03704930601161468, -0.06454938218140456, -0.030560627822959242, -0.013075161055270429], \"y\": [0.02626965009606458, -0.004059150844255427, -0.04807773667689177, 0.05382726107307833, 0.06171139489667818, -0.23275447996900986, 0.045843778598129534, 0.06762751678442623, 0.022443018422030617, 0.007168747619749503], \"topics\": [1, 2, 3, 4, 5, 6, 7, 8, 9, 10], \"cluster\": [1, 1, 1, 1, 1, 1, 1, 1, 1, 1], \"Freq\": [6.539976596832275, 11.354279518127441, 23.457334518432617, 9.763012886047363, 9.278068542480469, 11.255743026733398, 8.071850776672363, 10.719245910644531, 6.265600681304932, 3.2948813438415527]}, \"tinfo\": {\"Term\": [\"class=\\\"js\", \"number\", \"class=\\\"blob\", \"using\", \"filter\", \"base\", \"model\", \"scale\", \"semantics\", \"group\", \"efficiency.</td\", \"recommendation\", \"id=\\\"l1824\", \"number=\\\"1824\\\"></td\", \"multi\", \"protocol\", \"feeding\", \"multicast\", \"network\", \"opportunistic\", \"kuramoto\", \"pipelined\", \"codepipe\", \"route\", \"coding.</td\", \"property.</td\", \"synchronization\", \"reliable\", \"id=\\\"lc579\", \"digital\", \"formalization\", \"video.</td\", \"database\", \"formal\", \"invite\", \"leboned\", \"branch\", \"move\", \"definition\", \"wavelet\", \"system\", \"paper).</td\", \"detection\", \"architecture.</td\", \"metadata\", \"leaf\", \"id=\\\"lc1845\", \"id=\\\"lc1312\", \"base\", \"recommendation\", \"semantics\", \"efficiency.</td\", \"group\", \"number=\\\"1824\\\"></td\", \"id=\\\"l1824\", \"reliable\", \"synchronization\", \"property.</td\", \"coding.</td\", \"protocol\", \"multicast\", \"feeding\", \"network\", \"multi\", \"kuramoto\", \"opportunistic\", \"route\", \"codepipe\", \"id=\\\"lc579\", \"class=\\\"js\", \"number\", \"class=\\\"blob\", \"using\", \"heterogeneous\", \"frequency\", \"divider.</td\", \"throughput\", \"power\", \"performance\", \"lg-0\\\"><a\", \"nest\", \"error\", \"adc.</td\", \"amplifier\", \"background\", \"split\", \"residue\", \"pipeline\", \"nonlinearity\", \"beamfoming\", \"correction\", \"planar\", \"id=\\\"l714\", \"number=\\\"1964\\\"></td\", \"frustum\", \"number=\\\"1881\\\"></td\", \"id=\\\"l1129\", \"number=\\\"1129\\\"></td\", \"number=\\\"714\\\"></td\", \"id=\\\"l1964\", \"id=\\\"l1881\", \"filters.</td\", \"broadband\", \"number=\\\"482\\\"></td\", \"array\", \"id=\\\"l482\", \"digital\", \"class=\\\"blob\", \"number\", \"using\", \"number\", \"class=\\\"blob\", \"number=\\\"1664\\\"></td\", \"update\", \"query\", \"deterministic\", \"deductive\", \"id=\\\"l1662\", \"number=\\\"1662\\\"></td\", \"id=\\\"l1664\", \"id=\\\"l1689\", \"id=\\\"l1341\", \"number=\\\"1689\\\"></td\", \"id=\\\"l1828\", \"number=\\\"1828\\\"></td\", \"number=\\\"76\\\"></td\", \"id=\\\"l1853\", \"number=\\\"1853\\\"></td\", \"id=\\\"l2201\", \"id=\\\"l685\", \"id=\\\"l429\", \"id=\\\"l2405\", \"number=\\\"685\\\"></td\", \"number=\\\"735\\\"></td\", \"number=\\\"429\\\"></td\", \"id=\\\"l222\", \"number=\\\"2405\\\"></td\", \"number=\\\"1341\\\"></td\", \"number=\\\"912\\\"></td\", \"number=\\\"222\\\"></td\", \"id=\\\"l1354\", \"number=\\\"1354\\\"></td\", \"id=\\\"l33\", \"id=\\\"l76\", \"number=\\\"33\\\"></td\", \"number=\\\"1117\\\"></td\", \"id=\\\"l1117\", \"id=\\\"l735\", \"divider.</td\", \"frequency\", \"speed\", \"static\", \"sub-1v\", \"id=\\\"l354\", \"number=\\\"354\\\"></td\", \"id=\\\"l912\", \"backprojections.</td\", \"shadow\", \"micropower\", \"comparator\", \"multicell\", \"models.</td\", \"discrete\", \"converter\", \"class\", \"amplifiers.</td\", \"analysis\", \"spatial\", \"hearing\", \"computation\", \"novel\", \"boundary\", \"coherence\", \"class=\\\"btn\", \"voltage\", \"reference.</td\", \"mosfet\", \"bandgap\", \"truncate\", \"summary\", \"efficiency\", \"id=\\\"lc398\", \"id=\\\"lc2382\", \"id=\\\"lc568\", \"modelling\", \"power\", \"using\", \"filter\", \"pattern\", \"applications.</td\", \"information\", \"minimax\", \"technique.</td\", \"relaxation\", \"represent\", \"reconfigurable\", \"design\", \"frame\", \"electronic\", \"implementation\", \"interferometry\", \"speckle\", \"display\", \"base</td\", \"matrix.</td\", \"search\", \"relational\", \"zips.</td\", \"compressing\", \"incomplete\", \"id=\\\"lc208\", \"id=\\\"lc1620\", \"digital\", \"base\", \"using\", \"efficiency.</td\", \"group\", \"recommendation\", \"semantics\", \"id=\\\"l1824\", \"number=\\\"1824\\\"></td\", \"class=\\\"js\", \"number\", \"class=\\\"js\", \"selection\", \"multihomed\", \"egress\", \"networks.</td\", \"id=\\\"lc431\", \"id=\\\"lc2362\", \"id=\\\"lc75\", \"id=\\\"lc21\", \"id=\\\"lc1934\", \"id=\\\"lc1884\", \"id=\\\"lc1236\", \"id=\\\"lc1341\", \"id=\\\"lc2317\", \"id=\\\"lc1819\", \"id=\\\"lc1203\", \"id=\\\"lc1266\", \"id=\\\"lc620\", \"id=\\\"lc738\", \"id=\\\"lc1354\", \"id=\\\"lc2101\", \"semantics\", \"recommendation\", \"group\", \"efficiency.</td\", \"number=\\\"1824\\\"></td\", \"id=\\\"l1824\", \"id=\\\"lc1845\", \"id=\\\"lc1312\", \"leboned\", \"branch\", \"detection\", \"paper).</td\", \"leaf\", \"formal\", \"formalization\", \"database\", \"system\", \"definition\", \"architecture.</td\", \"video.</td\", \"invite\", \"wavelet\", \"id=\\\"lc579\", \"id=\\\"lc2459\", \"id=\\\"lc612\", \"id=\\\"lc568\", \"id=\\\"lc398\", \"id=\\\"lc2382\", \"id=\\\"lc1620\", \"id=\\\"lc208\", \"id=\\\"lc1707\", \"accelerate\", \"fpga&#39;s.</td\", \"hardware\", \"assurance\", \"bodyt2\", \"bsns.</td\", \"delay\", \"heterogeneous\", \"performance\", \"shaders\", \"throughput\", \"id=\\\"lc1707\", \"organize\", \"visualize\", \"topic\", \"architectural\", \"large\", \"image\", \"statistical\", \"scale\", \"model\", \"databases.</td\", \"using\", \"recommendation\", \"group\", \"efficiency.</td\", \"semantics\", \"number=\\\"1824\\\"></td\", \"id=\\\"l1824\", \"leboned\", \"database\", \"id=\\\"lc1312\", \"system\", \"formal\", \"branch\", \"id=\\\"lc1845\", \"formalization\", \"video.</td\", \"definition\", \"class=\\\"js\", \"number\", \"class=\\\"blob\", \"id=\\\"lc1354\", \"style\", \"lg-0\\\"><a\", \"complex\", \"supporting\", \"semantic\", \"rdbms.</td\", \"ontology\", \"match\", \"href=\\\"https://github.blog\", \"simulation\", \"numerical\", \"method\", \"lattice\", \"gpus.</td\", \"geometry\", \"fluid\", \"enable\", \"boltzmann\", \"tune\", \"multivibrator.</td\", \"astable\", \"class=\\\"border\", \"bottom\", \"border\", \"blog\\\">blog</a></li\", \"class=\\\"mr-3\", \"click=\\\"footer\", \"web.</td\", \"inductively\", \"bottom-0\", \"relationship\", \"style\", \"kuramoto\", \"property.</td\", \"codepipe\", \"coding.</td\", \"feeding\", \"multicast\", \"network\", \"opportunistic\", \"pipelined\", \"protocol\", \"reliable\", \"route\", \"multi\", \"synchronization\", \"id=\\\"lc579\", \"model\", \"scale\", \"recommendation\", \"group\", \"efficiency.</td\", \"semantics\", \"number=\\\"1824\\\"></td\", \"id=\\\"l1824\", \"leboned\", \"architecture.</td\", \"invite\", \"formalization\", \"formal\", \"definition\", \"database\", \"system\", \"detection\", \"move\", \"branch\", \"wavelet\", \"leaf\", \"paper).</td\", \"video.</td\", \"metadata\", \"id=\\\"lc1312\", \"id=\\\"lc1845\", \"statistical\", \"image\", \"large\", \"architectural\", \"topic\", \"visualize\", \"organize\", \"class=\\\"js\", \"using\", \"databases.</td\", \"number\", \"class=\\\"blob\", \"id=\\\"lc21\", \"efficiency.</td\", \"group\", \"recommendation\", \"semantics\", \"id=\\\"l1824\", \"number=\\\"1824\\\"></td\", \"detection\", \"invite\", \"video.</td\", \"branch\", \"wavelet\", \"system\", \"architecture.</td\", \"leboned\", \"metadata\", \"paper).</td\", \"formalization\", \"move\", \"formal\", \"definition\", \"database\", \"leaf\", \"id=\\\"lc1312\", \"id=\\\"lc1845\", \"reliable\", \"synchronization\", \"property.</td\", \"codepipe\", \"coding.</td\", \"feeding\", \"multi\", \"route\", \"protocol\", \"network\", \"multicast\", \"opportunistic\", \"pipelined\", \"id=\\\"lc579\", \"kuramoto\", \"class=\\\"blob\", \"number\", \"class=\\\"js\", \"id=\\\"lc2101\", \"id=\\\"lc208\", \"id=\\\"lc620\", \"id=\\\"lc1884\", \"id=\\\"lc1236\", \"id=\\\"lc1354\", \"id=\\\"lc1341\", \"id=\\\"lc568\", \"id=\\\"lc398\", \"using\", \"id=\\\"lc1819\", \"id=\\\"lc1707\", \"id=\\\"lc1620\", \"id=\\\"lc75\", \"class=\\\"list\", \"id=\\\"lc1934\", \"id=\\\"l1117\", \"style\", \"id=\\\"lc2362\"], \"Freq\": [14.0, 17.0, 17.0, 5.0, 1.0, 2.0, 1.0, 1.0, 0.0, 0.0, 0.0, 0.0, 0.0, 0.0, 1.0, 1.0, 1.0, 1.0, 1.0, 1.0, 1.0, 1.0, 1.0, 1.0, 1.0, 1.0, 1.0, 1.0, 1.0, 1.0, 0.5558255314826965, 0.5558255314826965, 0.5558255314826965, 0.5558255314826965, 0.5558255314826965, 0.5558255314826965, 0.5558255314826965, 0.5558255314826965, 0.5558255314826965, 0.5558255314826965, 0.5558255314826965, 0.5558255314826965, 0.5558255314826965, 0.5558255314826965, 0.5558255314826965, 0.5558255314826965, 0.5558114647865295, 0.5558114051818848, 0.5558291077613831, 0.050529610365629196, 0.050529610365629196, 0.050529610365629196, 0.0505296066403389, 0.050529610365629196, 0.050529610365629196, 0.0505296066403389, 0.0505296066403389, 0.0505296066403389, 0.0505296066403389, 0.0505296066403389, 0.0505296066403389, 0.0505296066403389, 0.0505296066403389, 0.0505296066403389, 0.0505296066403389, 0.0505296066403389, 0.0505296066403389, 0.0505296066403389, 0.05052961781620979, 0.05345650762319565, 0.05052974075078964, 0.05052972584962845, 0.050529636442661285, 0.0505296066403389, 0.0505296066403389, 0.0505296066403389, 0.0505296066403389, 0.050529610365629196, 0.0505296066403389, 0.050529610365629196, 0.6740485429763794, 0.6740485429763794, 0.6740485429763794, 0.6740485429763794, 0.6740485429763794, 0.6740485429763794, 0.6740485429763794, 0.6740485429763794, 0.6740485429763794, 0.6740485429763794, 0.6740485429763794, 0.6740484833717346, 0.6740484833717346, 0.6740484833717346, 0.6740484833717346, 0.6740484833717346, 0.6740484833717346, 0.6740484833717346, 0.6740484833717346, 0.6740484833717346, 0.6740484833717346, 0.6740484833717346, 0.6740484833717346, 0.6740484833717346, 0.6740484833717346, 0.6740484833717346, 0.6740487813949585, 3.125122308731079, 3.125122308731079, 0.6740327477455139, 13.818225860595703, 13.818225860595703, 0.7563185095787048, 0.7563185095787048, 0.7563185095787048, 0.7563185095787048, 0.7563185095787048, 0.7563185095787048, 0.7563185095787048, 0.7563185095787048, 0.7563185095787048, 0.7563185095787048, 0.7563185095787048, 0.7563185095787048, 0.7563185095787048, 0.7563185095787048, 0.7563185095787048, 0.7563185095787048, 0.7563185095787048, 0.7563185095787048, 0.7563185095787048, 0.7563185095787048, 0.7563185095787048, 0.7563185095787048, 0.7563185095787048, 0.7563185095787048, 0.7563185095787048, 0.7563185095787048, 0.7563185095787048, 0.7563185095787048, 0.7563184499740601, 0.7563184499740601, 0.7563184499740601, 0.7563184499740601, 0.7563184499740601, 0.7563184499740601, 0.7563184499740601, 0.7563185095787048, 0.7563184499740601, 0.7563184499740601, 0.7563184499740601, 0.7563184499740601, 0.7563184499740601, 0.7563184499740601, 0.7563184499740601, 0.7563184499740601, 0.6404701471328735, 0.6404701471328735, 0.6404701471328735, 0.6404700875282288, 0.6404701471328735, 0.6404701471328735, 0.6404701471328735, 0.6404701471328735, 0.6404701471328735, 0.6404700875282288, 0.6404701471328735, 0.6404701471328735, 0.6404701471328735, 0.6404701471328735, 0.6404700875282288, 0.6404701471328735, 0.6404701471328735, 0.6404700875282288, 0.6404700875282288, 0.6404700875282288, 0.6404700875282288, 0.6404700875282288, 0.6404700875282288, 0.6404700875282288, 0.6404700875282288, 0.6404491066932678, 0.6404491066932678, 0.6404491066932678, 0.6404752135276794, 0.6404752135276794, 1.222720980644226, 1.2043499946594238, 0.630850076675415, 0.6308500170707703, 0.6308500170707703, 0.6308500170707703, 0.6308500170707703, 0.6308500170707703, 0.6308500170707703, 0.6308500170707703, 0.6308500170707703, 0.6308500170707703, 0.6308500170707703, 0.6308500170707703, 0.6308500170707703, 0.6308500170707703, 0.6308500170707703, 0.6308500170707703, 0.6308500170707703, 0.6308500170707703, 0.6308500170707703, 0.6308500170707703, 0.6308500170707703, 0.6308500170707703, 0.6308300495147705, 0.6308300495147705, 0.6308497786521912, 0.6308488845825195, 1.2043554782867432, 0.05735002085566521, 0.05735002085566521, 0.05735002085566521, 0.05735001713037491, 0.05735002085566521, 0.05735001713037491, 0.06032351776957512, 0.05735016241669655, 14.394203186035156, 0.5849137306213379, 0.5849137306213379, 0.5849137306213379, 0.5849137306213379, 0.5849136114120483, 0.5849136114120483, 0.5849136114120483, 0.5849136114120483, 0.5849136114120483, 0.5849136114120483, 0.5849136114120483, 0.5849136114120483, 0.5849136114120483, 0.5849136114120483, 0.5849136114120483, 0.5849136114120483, 0.5849136114120483, 0.5849137306213379, 0.5849136114120483, 0.5849135518074036, 0.053173989057540894, 0.053173989057540894, 0.053173985332250595, 0.053173989057540894, 0.053173989057540894, 0.053173989057540894, 0.05318871885538101, 0.05318871885538101, 0.053173989057540894, 0.053173985332250595, 0.053173985332250595, 0.053173985332250595, 0.053173985332250595, 0.053173985332250595, 0.053173985332250595, 0.053173985332250595, 0.053173985332250595, 0.053173985332250595, 0.053173989057540894, 0.053173985332250595, 0.053173985332250595, 0.053173985332250595, 0.05318807438015938, 0.05321333557367325, 0.05319453030824661, 0.0531931072473526, 0.0531931035220623, 0.0531931072473526, 0.05319247022271156, 0.05319247394800186, 0.0531904399394989, 0.616118848323822, 0.616118848323822, 0.616118848323822, 0.6161189079284668, 0.6161189079284668, 0.6161189079284668, 0.6161189079284668, 0.6161189079284668, 0.6161189079284668, 0.616118848323822, 0.6161189079284668, 0.6161015033721924, 0.6159572005271912, 0.6159455180168152, 0.6159312725067139, 0.6159204244613647, 0.6159071922302246, 0.6158888339996338, 0.6158865690231323, 0.6159481406211853, 0.6158613562583923, 0.6159628033638, 1.1760532855987549, 0.05601082369685173, 0.05601082369685173, 0.05601082369685173, 0.05601082369685173, 0.05601082369685173, 0.05601082369685173, 0.05601083114743233, 0.05601082369685173, 0.056010834872722626, 0.05601082369685173, 0.05601082369685173, 0.05601082369685173, 0.056010834872722626, 0.05601082369685173, 0.05601082369685173, 0.05601082369685173, 0.05718289315700531, 0.05601099133491516, 0.05601097643375397, 0.05601084232330322, 0.056010834872722626, 0.6571917533874512, 0.6571917533874512, 0.6571915745735168, 0.6571915745735168, 0.6571915745735168, 0.6571915745735168, 0.6571915745735168, 0.6571917533874512, 0.6571917533874512, 0.6571917533874512, 0.6571917533874512, 0.6571917533874512, 0.6571917533874512, 0.6571917533874512, 0.6571917533874512, 0.6571917533874512, 0.6571917533874512, 0.6571915745735168, 0.6571915745735168, 0.6571915745735168, 0.6571915745735168, 0.6571915745735168, 0.6571915745735168, 0.6571917533874512, 0.6571917533874512, 0.6571917533874512, 0.6571915745735168, 0.6571915745735168, 0.6571915745735168, 0.6571915745735168, 0.6571915149688721, 0.5578576922416687, 0.5578575730323792, 0.5578576922416687, 0.5578576922416687, 0.5578576922416687, 0.5578576922416687, 0.5578576922416687, 0.5578576922416687, 0.5578576922416687, 0.5578576922416687, 0.5578575730323792, 0.5578576922416687, 0.5578576922416687, 0.5578575730323792, 0.5578441023826599, 0.5580908060073853, 0.5580123662948608, 0.05071434751152992, 0.05071434751152992, 0.05071434751152992, 0.05071434751152992, 0.05071434751152992, 0.05071434751152992, 0.05071434751152992, 0.05071435123682022, 0.050714340060949326, 0.050714340060949326, 0.050714340060949326, 0.050714340060949326, 0.050714340060949326, 0.050714340060949326, 0.050714340060949326, 0.050714340060949326, 0.050714340060949326, 0.050714340060949326, 0.050714340060949326, 0.050714340060949326, 0.050714340060949326, 0.05071435123682022, 0.05071435496211052, 0.05071435123682022, 0.05092470347881317, 0.05092266574501991, 0.05090605467557907, 0.05089402198791504, 0.050884295254945755, 0.0508713498711586, 0.05086075887084007, 0.051787927746772766, 0.05088208243250847, 0.050861507654190063, 0.05071451514959335, 0.05071445554494858, 0.05071435496211052, 0.39744502305984497, 0.39744502305984497, 0.39744502305984497, 0.39744502305984497, 0.39744073152542114, 0.39744076132774353, 0.03613137826323509, 0.03613137826323509, 0.03613137826323509, 0.03613137826323509, 0.03613137826323509, 0.03613137826323509, 0.03613138198852539, 0.03613137826323509, 0.03613138198852539, 0.03613137826323509, 0.03613137826323509, 0.03613137826323509, 0.03613137826323509, 0.03613137826323509, 0.03613137826323509, 0.03613137826323509, 0.03613138571381569, 0.03613138198852539, 0.03613137826323509, 0.03613137826323509, 0.03613137826323509, 0.03613137826323509, 0.03613137826323509, 0.03613137826323509, 0.03613137826323509, 0.03613137826323509, 0.03613137826323509, 0.03613137826323509, 0.03613137826323509, 0.03613137826323509, 0.03613137826323509, 0.03613138571381569, 0.03613137826323509, 0.03707234933972359, 0.0370723158121109, 0.03613162040710449, 0.03613138571381569, 0.03613138571381569, 0.03613138571381569, 0.03613138943910599, 0.03613138571381569, 0.03613138571381569, 0.03613138571381569, 0.03613138571381569, 0.03613138571381569, 0.036131393164396286, 0.03613138571381569, 0.03613138571381569, 0.03613138571381569, 0.03613138571381569, 0.03613138943910599, 0.03613138571381569, 0.03613138571381569, 0.03613138571381569, 0.03613138571381569], \"Total\": [14.0, 17.0, 17.0, 5.0, 1.0, 2.0, 1.0, 1.0, 0.0, 0.0, 0.0, 0.0, 0.0, 0.0, 1.0, 1.0, 1.0, 1.0, 1.0, 1.0, 1.0, 1.0, 1.0, 1.0, 1.0, 1.0, 1.0, 1.0, 1.0, 1.0, 1.057208776473999, 1.057208776473999, 1.057208776473999, 1.057208776473999, 1.057208776473999, 1.057208776473999, 1.057208776473999, 1.057208776473999, 1.057208776473999, 1.057208776473999, 1.057208776473999, 1.057208776473999, 1.057208776473999, 1.0572088956832886, 1.0572088956832886, 1.057208776473999, 1.0572094917297363, 1.0572094917297363, 2.2281548976898193, 0.9132264852523804, 0.9132264852523804, 0.9132264852523804, 0.9132264852523804, 0.9132304191589355, 0.9132304787635803, 1.059056043624878, 1.059056043624878, 1.059056043624878, 1.0590561628341675, 1.0590561628341675, 1.0590561628341675, 1.0590561628341675, 1.0590561628341675, 1.0590561628341675, 1.0590561628341675, 1.0590561628341675, 1.0590561628341675, 1.0590561628341675, 1.0590567588806152, 14.909941673278809, 17.366172790527344, 17.366172790527344, 5.193819522857666, 1.1120209693908691, 1.239475131034851, 1.239475131034851, 1.1120209693908691, 1.8217198848724365, 1.1120209693908691, 1.1493598222732544, 1.1646841764450073, 1.1646841764450073, 1.1646841764450073, 1.1646841764450073, 1.1646841764450073, 1.1646841764450073, 1.1646841764450073, 1.1646841764450073, 1.1646841764450073, 1.1646841764450073, 1.1646841764450073, 1.1646841764450073, 1.1646841764450073, 1.1646841764450073, 1.1646841764450073, 1.1646841764450073, 1.1646841764450073, 1.1646841764450073, 1.1646841764450073, 1.1646841764450073, 1.1646841764450073, 1.1646841764450073, 1.1646841764450073, 1.1646841764450073, 1.1646841764450073, 1.1646841764450073, 1.7381843328475952, 17.366172790527344, 17.366172790527344, 5.193819522857666, 17.366172790527344, 17.366172790527344, 1.239475131034851, 1.239475131034851, 1.239475131034851, 1.239475131034851, 1.239475131034851, 1.239475131034851, 1.239475131034851, 1.239475131034851, 1.239475131034851, 1.239475131034851, 1.239475131034851, 1.239475131034851, 1.239475131034851, 1.239475131034851, 1.239475131034851, 1.239475131034851, 1.239475131034851, 1.239475131034851, 1.239475131034851, 1.239475131034851, 1.239475131034851, 1.239475131034851, 1.239475131034851, 1.239475131034851, 1.239475131034851, 1.239475131034851, 1.239475131034851, 1.239475131034851, 1.239475131034851, 1.239475131034851, 1.239475131034851, 1.239475131034851, 1.239475131034851, 1.239475131034851, 1.239475131034851, 1.2394752502441406, 1.239475131034851, 1.239475131034851, 1.239475131034851, 1.239475131034851, 1.239475131034851, 1.239475131034851, 1.239475131034851, 1.239475131034851, 1.1341583728790283, 1.1341583728790283, 1.1341583728790283, 1.1341583728790283, 1.1341583728790283, 1.1341583728790283, 1.1341583728790283, 1.1341583728790283, 1.1341583728790283, 1.1341583728790283, 1.1341583728790283, 1.1341583728790283, 1.1341583728790283, 1.1341583728790283, 1.1341583728790283, 1.1341584920883179, 1.1341583728790283, 1.1341584920883179, 1.1341584920883179, 1.1341584920883179, 1.1341584920883179, 1.1341584920883179, 1.1341584920883179, 1.1341584920883179, 1.1341584920883179, 1.134156584739685, 1.134156584739685, 1.134156584739685, 1.8217198848724365, 1.8217198848724365, 5.193819522857666, 1.6989128589630127, 1.1254128217697144, 1.1254128217697144, 1.1254128217697144, 1.1254128217697144, 1.1254128217697144, 1.1254128217697144, 1.1254128217697144, 1.1254128217697144, 1.1254128217697144, 1.1254128217697144, 1.1254128217697144, 1.1254128217697144, 1.1254128217697144, 1.1254128217697144, 1.1254128217697144, 1.1254128217697144, 1.125412940979004, 1.125412940979004, 1.125412940979004, 1.125412940979004, 1.125412940979004, 1.125412940979004, 1.1254115104675293, 1.1254115104675293, 1.7381843328475952, 2.2281548976898193, 5.193819522857666, 0.9132264852523804, 0.9132264852523804, 0.9132264852523804, 0.9132264852523804, 0.9132304787635803, 0.9132304191589355, 14.909941673278809, 17.366172790527344, 14.909941673278809, 1.0836526155471802, 1.0836526155471802, 1.0836526155471802, 1.0836526155471802, 1.0836526155471802, 1.0836526155471802, 1.0836526155471802, 1.0836526155471802, 1.0836526155471802, 1.0836526155471802, 1.0836526155471802, 1.0836526155471802, 1.0836526155471802, 1.0836526155471802, 1.0836526155471802, 1.0836526155471802, 1.0836526155471802, 1.0836527347564697, 1.0836526155471802, 1.0836524963378906, 0.9132264852523804, 0.9132264852523804, 0.9132264852523804, 0.9132264852523804, 0.9132304191589355, 0.9132304787635803, 1.0572094917297363, 1.0572094917297363, 1.057208776473999, 1.057208776473999, 1.057208776473999, 1.057208776473999, 1.057208776473999, 1.057208776473999, 1.057208776473999, 1.057208776473999, 1.057208776473999, 1.057208776473999, 1.0572088956832886, 1.057208776473999, 1.057208776473999, 1.057208776473999, 1.0590567588806152, 1.2394635677337646, 1.1493573188781738, 1.134156584739685, 1.134156584739685, 1.134156584739685, 1.1254115104675293, 1.1254115104675293, 1.1120201349258423, 1.1120208501815796, 1.1120208501815796, 1.1120208501815796, 1.1120209693908691, 1.1120209693908691, 1.1120209693908691, 1.1120209693908691, 1.1120209693908691, 1.1120209693908691, 1.1120208501815796, 1.1120209693908691, 1.1120201349258423, 1.112005591392517, 1.1120045185089111, 1.112003207206726, 1.1120021343231201, 1.1120009422302246, 1.1119991540908813, 1.1119989156723022, 1.6191481351852417, 1.6191397905349731, 1.7995662689208984, 5.193819522857666, 0.9132264852523804, 0.9132264852523804, 0.9132264852523804, 0.9132264852523804, 0.9132304191589355, 0.9132304787635803, 1.057208776473999, 1.057208776473999, 1.0572094917297363, 1.057208776473999, 1.057208776473999, 1.057208776473999, 1.0572094917297363, 1.057208776473999, 1.057208776473999, 1.057208776473999, 14.909941673278809, 17.366172790527344, 17.366172790527344, 1.0836526155471802, 1.1493598222732544, 1.1493598222732544, 1.1493598222732544, 1.1493597030639648, 1.1493597030639648, 1.1493597030639648, 1.1493597030639648, 1.1493597030639648, 1.1493598222732544, 1.1493598222732544, 1.1493598222732544, 1.1493598222732544, 1.1493598222732544, 1.1493598222732544, 1.1493598222732544, 1.1493598222732544, 1.1493598222732544, 1.1493598222732544, 1.1493597030639648, 1.1493597030639648, 1.1493597030639648, 1.1493597030639648, 1.1493597030639648, 1.1493597030639648, 1.149359941482544, 1.1493598222732544, 1.1493598222732544, 1.1493598222732544, 1.1493598222732544, 1.1493598222732544, 1.1493598222732544, 1.1493598222732544, 1.0590561628341675, 1.059056043624878, 1.0590561628341675, 1.0590561628341675, 1.0590561628341675, 1.0590561628341675, 1.0590561628341675, 1.0590561628341675, 1.0590561628341675, 1.0590561628341675, 1.059056043624878, 1.0590561628341675, 1.0590561628341675, 1.059056043624878, 1.0590567588806152, 1.6191397905349731, 1.6191481351852417, 0.9132264852523804, 0.9132264852523804, 0.9132264852523804, 0.9132264852523804, 0.9132304191589355, 0.9132304787635803, 1.057208776473999, 1.0572088956832886, 1.057208776473999, 1.057208776473999, 1.057208776473999, 1.057208776473999, 1.057208776473999, 1.057208776473999, 1.057208776473999, 1.057208776473999, 1.057208776473999, 1.057208776473999, 1.057208776473999, 1.057208776473999, 1.057208776473999, 1.0572088956832886, 1.0572094917297363, 1.0572094917297363, 1.1119989156723022, 1.1119991540908813, 1.1120009422302246, 1.1120021343231201, 1.112003207206726, 1.1120045185089111, 1.112005591392517, 14.909941673278809, 5.193819522857666, 1.7995662689208984, 17.366172790527344, 17.366172790527344, 1.0836526155471802, 0.9132264852523804, 0.9132264852523804, 0.9132264852523804, 0.9132264852523804, 0.9132304787635803, 0.9132304191589355, 1.057208776473999, 1.057208776473999, 1.057208776473999, 1.057208776473999, 1.057208776473999, 1.057208776473999, 1.0572088956832886, 1.057208776473999, 1.0572088956832886, 1.057208776473999, 1.057208776473999, 1.057208776473999, 1.057208776473999, 1.057208776473999, 1.057208776473999, 1.057208776473999, 1.0572094917297363, 1.0572094917297363, 1.059056043624878, 1.059056043624878, 1.059056043624878, 1.0590561628341675, 1.0590561628341675, 1.0590561628341675, 1.0590561628341675, 1.0590561628341675, 1.0590561628341675, 1.0590561628341675, 1.0590561628341675, 1.0590561628341675, 1.0590561628341675, 1.0590567588806152, 1.0590561628341675, 17.366172790527344, 17.366172790527344, 14.909941673278809, 1.0836524963378906, 1.1254115104675293, 1.0836526155471802, 1.0836526155471802, 1.0836526155471802, 1.0836526155471802, 1.0836526155471802, 1.134156584739685, 1.134156584739685, 5.193819522857666, 1.0836526155471802, 1.1120201349258423, 1.1254115104675293, 1.0836526155471802, 1.1493598222732544, 1.0836526155471802, 1.239475131034851, 1.1493598222732544, 1.0836526155471802], \"Category\": [\"Default\", \"Default\", \"Default\", \"Default\", \"Default\", \"Default\", \"Default\", \"Default\", \"Default\", \"Default\", \"Default\", \"Default\", \"Default\", \"Default\", \"Default\", \"Default\", \"Default\", \"Default\", \"Default\", \"Default\", \"Default\", \"Default\", \"Default\", \"Default\", \"Default\", \"Default\", \"Default\", \"Default\", \"Default\", \"Default\", \"Topic1\", \"Topic1\", \"Topic1\", \"Topic1\", \"Topic1\", \"Topic1\", \"Topic1\", \"Topic1\", \"Topic1\", \"Topic1\", \"Topic1\", \"Topic1\", \"Topic1\", \"Topic1\", \"Topic1\", \"Topic1\", \"Topic1\", \"Topic1\", \"Topic1\", \"Topic1\", \"Topic1\", \"Topic1\", \"Topic1\", \"Topic1\", \"Topic1\", \"Topic1\", \"Topic1\", \"Topic1\", \"Topic1\", \"Topic1\", \"Topic1\", \"Topic1\", \"Topic1\", \"Topic1\", \"Topic1\", \"Topic1\", \"Topic1\", \"Topic1\", \"Topic1\", \"Topic1\", \"Topic1\", \"Topic1\", \"Topic1\", \"Topic1\", \"Topic1\", \"Topic1\", \"Topic1\", \"Topic1\", \"Topic1\", \"Topic1\", \"Topic2\", \"Topic2\", \"Topic2\", \"Topic2\", \"Topic2\", \"Topic2\", \"Topic2\", \"Topic2\", \"Topic2\", \"Topic2\", \"Topic2\", \"Topic2\", \"Topic2\", \"Topic2\", \"Topic2\", \"Topic2\", \"Topic2\", \"Topic2\", \"Topic2\", \"Topic2\", \"Topic2\", \"Topic2\", \"Topic2\", \"Topic2\", \"Topic2\", \"Topic2\", \"Topic2\", \"Topic2\", \"Topic2\", \"Topic2\", \"Topic3\", \"Topic3\", \"Topic3\", \"Topic3\", \"Topic3\", \"Topic3\", \"Topic3\", \"Topic3\", \"Topic3\", \"Topic3\", \"Topic3\", \"Topic3\", \"Topic3\", \"Topic3\", \"Topic3\", \"Topic3\", \"Topic3\", \"Topic3\", \"Topic3\", \"Topic3\", \"Topic3\", \"Topic3\", \"Topic3\", \"Topic3\", \"Topic3\", \"Topic3\", \"Topic3\", \"Topic3\", \"Topic3\", \"Topic3\", \"Topic3\", \"Topic3\", \"Topic3\", \"Topic3\", \"Topic3\", \"Topic3\", \"Topic3\", \"Topic3\", \"Topic3\", \"Topic3\", \"Topic3\", \"Topic3\", \"Topic3\", \"Topic3\", \"Topic3\", \"Topic3\", \"Topic4\", \"Topic4\", \"Topic4\", \"Topic4\", \"Topic4\", \"Topic4\", \"Topic4\", \"Topic4\", \"Topic4\", \"Topic4\", \"Topic4\", \"Topic4\", \"Topic4\", \"Topic4\", \"Topic4\", \"Topic4\", \"Topic4\", \"Topic4\", \"Topic4\", \"Topic4\", \"Topic4\", \"Topic4\", \"Topic4\", \"Topic4\", \"Topic4\", \"Topic4\", \"Topic4\", \"Topic4\", \"Topic4\", \"Topic4\", \"Topic4\", \"Topic5\", \"Topic5\", \"Topic5\", \"Topic5\", \"Topic5\", \"Topic5\", \"Topic5\", \"Topic5\", \"Topic5\", \"Topic5\", \"Topic5\", \"Topic5\", \"Topic5\", \"Topic5\", \"Topic5\", \"Topic5\", \"Topic5\", \"Topic5\", \"Topic5\", \"Topic5\", \"Topic5\", \"Topic5\", \"Topic5\", \"Topic5\", \"Topic5\", \"Topic5\", \"Topic5\", \"Topic5\", \"Topic5\", \"Topic5\", \"Topic5\", \"Topic5\", \"Topic5\", \"Topic5\", \"Topic5\", \"Topic5\", \"Topic6\", \"Topic6\", \"Topic6\", \"Topic6\", \"Topic6\", \"Topic6\", \"Topic6\", \"Topic6\", \"Topic6\", \"Topic6\", \"Topic6\", \"Topic6\", \"Topic6\", \"Topic6\", \"Topic6\", \"Topic6\", \"Topic6\", \"Topic6\", \"Topic6\", \"Topic6\", \"Topic6\", \"Topic6\", \"Topic6\", \"Topic6\", \"Topic6\", \"Topic6\", \"Topic6\", \"Topic6\", \"Topic6\", \"Topic6\", \"Topic6\", \"Topic6\", \"Topic6\", \"Topic6\", \"Topic6\", \"Topic6\", \"Topic6\", \"Topic6\", \"Topic6\", \"Topic6\", \"Topic6\", \"Topic6\", \"Topic6\", \"Topic6\", \"Topic6\", \"Topic6\", \"Topic6\", \"Topic6\", \"Topic6\", \"Topic6\", \"Topic6\", \"Topic6\", \"Topic7\", \"Topic7\", \"Topic7\", \"Topic7\", \"Topic7\", \"Topic7\", \"Topic7\", \"Topic7\", \"Topic7\", \"Topic7\", \"Topic7\", \"Topic7\", \"Topic7\", \"Topic7\", \"Topic7\", \"Topic7\", \"Topic7\", \"Topic7\", \"Topic7\", \"Topic7\", \"Topic7\", \"Topic7\", \"Topic7\", \"Topic7\", \"Topic7\", \"Topic7\", \"Topic7\", \"Topic7\", \"Topic7\", \"Topic7\", \"Topic7\", \"Topic7\", \"Topic7\", \"Topic7\", \"Topic7\", \"Topic7\", \"Topic7\", \"Topic7\", \"Topic7\", \"Topic7\", \"Topic7\", \"Topic7\", \"Topic7\", \"Topic7\", \"Topic8\", \"Topic8\", \"Topic8\", \"Topic8\", \"Topic8\", \"Topic8\", \"Topic8\", \"Topic8\", \"Topic8\", \"Topic8\", \"Topic8\", \"Topic8\", \"Topic8\", \"Topic8\", \"Topic8\", \"Topic8\", \"Topic8\", \"Topic8\", \"Topic8\", \"Topic8\", \"Topic8\", \"Topic8\", \"Topic8\", \"Topic8\", \"Topic8\", \"Topic8\", \"Topic8\", \"Topic8\", \"Topic8\", \"Topic8\", \"Topic8\", \"Topic9\", \"Topic9\", \"Topic9\", \"Topic9\", \"Topic9\", \"Topic9\", \"Topic9\", \"Topic9\", \"Topic9\", \"Topic9\", \"Topic9\", \"Topic9\", \"Topic9\", \"Topic9\", \"Topic9\", \"Topic9\", \"Topic9\", \"Topic9\", \"Topic9\", \"Topic9\", \"Topic9\", \"Topic9\", \"Topic9\", \"Topic9\", \"Topic9\", \"Topic9\", \"Topic9\", \"Topic9\", \"Topic9\", \"Topic9\", \"Topic9\", \"Topic9\", \"Topic9\", \"Topic9\", \"Topic9\", \"Topic9\", \"Topic9\", \"Topic9\", \"Topic9\", \"Topic9\", \"Topic9\", \"Topic9\", \"Topic9\", \"Topic9\", \"Topic9\", \"Topic9\", \"Topic9\", \"Topic9\", \"Topic9\", \"Topic9\", \"Topic9\", \"Topic9\", \"Topic9\", \"Topic9\", \"Topic10\", \"Topic10\", \"Topic10\", \"Topic10\", \"Topic10\", \"Topic10\", \"Topic10\", \"Topic10\", \"Topic10\", \"Topic10\", \"Topic10\", \"Topic10\", \"Topic10\", \"Topic10\", \"Topic10\", \"Topic10\", \"Topic10\", \"Topic10\", \"Topic10\", \"Topic10\", \"Topic10\", \"Topic10\", \"Topic10\", \"Topic10\", \"Topic10\", \"Topic10\", \"Topic10\", \"Topic10\", \"Topic10\", \"Topic10\", \"Topic10\", \"Topic10\", \"Topic10\", \"Topic10\", \"Topic10\", \"Topic10\", \"Topic10\", \"Topic10\", \"Topic10\", \"Topic10\", \"Topic10\", \"Topic10\", \"Topic10\", \"Topic10\", \"Topic10\", \"Topic10\", \"Topic10\", \"Topic10\", \"Topic10\", \"Topic10\", \"Topic10\", \"Topic10\", \"Topic10\", \"Topic10\", \"Topic10\", \"Topic10\", \"Topic10\", \"Topic10\", \"Topic10\", \"Topic10\", \"Topic10\"], \"logprob\": [30.0, 29.0, 28.0, 27.0, 26.0, 25.0, 24.0, 23.0, 22.0, 21.0, 20.0, 19.0, 18.0, 17.0, 16.0, 15.0, 14.0, 13.0, 12.0, 11.0, 10.0, 9.0, 8.0, 7.0, 6.0, 5.0, 4.0, 3.0, 2.0, 1.0, -3.688999891281128, -3.688999891281128, -3.688999891281128, -3.688999891281128, -3.688999891281128, -3.688999891281128, -3.688999891281128, -3.688999891281128, -3.688999891281128, -3.688999891281128, -3.688999891281128, -3.688999891281128, -3.688999891281128, -3.688999891281128, -3.688999891281128, -3.688999891281128, -3.688999891281128, -3.688999891281128, -3.688999891281128, -6.086900234222412, -6.086900234222412, -6.086900234222412, -6.086900234222412, -6.086900234222412, -6.086900234222412, -6.086900234222412, -6.086900234222412, -6.086900234222412, -6.086900234222412, -6.086900234222412, -6.086900234222412, -6.086900234222412, -6.086900234222412, -6.086900234222412, -6.086900234222412, -6.086900234222412, -6.086900234222412, -6.086900234222412, -6.086900234222412, -6.030600070953369, -6.086900234222412, -6.086900234222412, -6.086900234222412, -6.086900234222412, -6.086900234222412, -6.086900234222412, -6.086900234222412, -6.086900234222412, -6.086900234222412, -6.086900234222412, -4.047800064086914, -4.047800064086914, -4.047800064086914, -4.047800064086914, -4.047800064086914, -4.047800064086914, -4.047800064086914, -4.047800064086914, -4.047800064086914, -4.047800064086914, -4.047800064086914, -4.047800064086914, -4.047800064086914, -4.047800064086914, -4.047800064086914, -4.047800064086914, -4.047800064086914, -4.047800064086914, -4.047800064086914, -4.047800064086914, -4.047800064086914, -4.047800064086914, -4.047800064086914, -4.047800064086914, -4.047800064086914, -4.047800064086914, -4.047800064086914, -2.5139000415802, -2.5139000415802, -4.047800064086914, -1.753000020980835, -1.753000020980835, -4.658299922943115, -4.658299922943115, -4.658299922943115, -4.658299922943115, -4.658299922943115, -4.658299922943115, -4.658299922943115, -4.658299922943115, -4.658299922943115, -4.658299922943115, -4.658299922943115, -4.658299922943115, -4.658299922943115, -4.658299922943115, -4.658299922943115, -4.658299922943115, -4.658299922943115, -4.658299922943115, -4.658299922943115, -4.658299922943115, -4.658299922943115, -4.658299922943115, -4.658299922943115, -4.658299922943115, -4.658299922943115, -4.658299922943115, -4.658299922943115, -4.658299922943115, -4.658299922943115, -4.658299922943115, -4.658299922943115, -4.658299922943115, -4.658299922943115, -4.658299922943115, -4.658299922943115, -4.658299922943115, -4.658299922943115, -4.658299922943115, -4.658299922943115, -4.658299922943115, -4.658299922943115, -4.658299922943115, -4.658299922943115, -4.658299922943115, -3.9479000568389893, -3.9479000568389893, -3.9479000568389893, -3.9479000568389893, -3.9479000568389893, -3.9479000568389893, -3.9479000568389893, -3.9479000568389893, -3.9479000568389893, -3.9479000568389893, -3.9479000568389893, -3.9479000568389893, -3.9479000568389893, -3.9479000568389893, -3.9479000568389893, -3.9479000568389893, -3.9479000568389893, -3.9479000568389893, -3.9479000568389893, -3.9479000568389893, -3.9479000568389893, -3.9479000568389893, -3.9479000568389893, -3.9479000568389893, -3.9479000568389893, -3.947999954223633, -3.947999954223633, -3.947999954223633, -3.9479000568389893, -3.9479000568389893, -3.301300048828125, -3.265500068664551, -3.912100076675415, -3.912100076675415, -3.912100076675415, -3.912100076675415, -3.912100076675415, -3.912100076675415, -3.912100076675415, -3.912100076675415, -3.912100076675415, -3.912100076675415, -3.912100076675415, -3.912100076675415, -3.912100076675415, -3.912100076675415, -3.912100076675415, -3.912100076675415, -3.912100076675415, -3.912100076675415, -3.912100076675415, -3.912100076675415, -3.912100076675415, -3.912100076675415, -3.912100076675415, -3.912100076675415, -3.912100076675415, -3.912100076675415, -3.265500068664551, -6.309999942779541, -6.309999942779541, -6.309999942779541, -6.309999942779541, -6.309999942779541, -6.309999942779541, -6.259500026702881, -6.309999942779541, -0.9778000116348267, -4.1809000968933105, -4.1809000968933105, -4.1809000968933105, -4.1809000968933105, -4.1809000968933105, -4.1809000968933105, -4.1809000968933105, -4.1809000968933105, -4.1809000968933105, -4.1809000968933105, -4.1809000968933105, -4.1809000968933105, -4.1809000968933105, -4.1809000968933105, -4.1809000968933105, -4.1809000968933105, -4.1809000968933105, -4.1809000968933105, -4.1809000968933105, -4.1809000968933105, -6.578800201416016, -6.578800201416016, -6.578800201416016, -6.578800201416016, -6.578800201416016, -6.578800201416016, -6.57859992980957, -6.57859992980957, -6.578800201416016, -6.578800201416016, -6.578800201416016, -6.578800201416016, -6.578800201416016, -6.578800201416016, -6.578800201416016, -6.578800201416016, -6.578800201416016, -6.578800201416016, -6.578800201416016, -6.578800201416016, -6.578800201416016, -6.578800201416016, -6.57859992980957, -6.578100204467773, -6.578499794006348, -6.578499794006348, -6.578499794006348, -6.578499794006348, -6.578499794006348, -6.578499794006348, -6.578499794006348, -3.7964999675750732, -3.7964999675750732, -3.7964999675750732, -3.7964999675750732, -3.7964999675750732, -3.7964999675750732, -3.7964999675750732, -3.7964999675750732, -3.7964999675750732, -3.7964999675750732, -3.7964999675750732, -3.7964999675750732, -3.7967000007629395, -3.796799898147583, -3.796799898147583, -3.796799898147583, -3.796799898147583, -3.796799898147583, -3.7969000339508057, -3.796799898147583, -3.7969000339508057, -3.7967000007629395, -3.1500000953674316, -6.194399833679199, -6.194399833679199, -6.194399833679199, -6.194399833679199, -6.194399833679199, -6.194399833679199, -6.194399833679199, -6.194399833679199, -6.194399833679199, -6.194399833679199, -6.194399833679199, -6.194399833679199, -6.194399833679199, -6.194399833679199, -6.194399833679199, -6.194399833679199, -6.173699855804443, -6.194399833679199, -6.194399833679199, -6.194399833679199, -6.194399833679199, -4.015600204467773, -4.015600204467773, -4.015600204467773, -4.015600204467773, -4.015600204467773, -4.015600204467773, -4.015600204467773, -4.015600204467773, -4.015600204467773, -4.015600204467773, -4.015600204467773, -4.015600204467773, -4.015600204467773, -4.015600204467773, -4.015600204467773, -4.015600204467773, -4.015600204467773, -4.015600204467773, -4.015600204467773, -4.015600204467773, -4.015600204467773, -4.015600204467773, -4.015600204467773, -4.015600204467773, -4.015600204467773, -4.015600204467773, -4.015600204467773, -4.015600204467773, -4.015600204467773, -4.015600204467773, -4.015600204467773, -3.6424999237060547, -3.6424999237060547, -3.6424999237060547, -3.6424999237060547, -3.6424999237060547, -3.6424999237060547, -3.6424999237060547, -3.6424999237060547, -3.6424999237060547, -3.6424999237060547, -3.6424999237060547, -3.6424999237060547, -3.6424999237060547, -3.6424999237060547, -3.6424999237060547, -3.6421000957489014, -3.642199993133545, -6.04040002822876, -6.04040002822876, -6.04040002822876, -6.04040002822876, -6.04040002822876, -6.04040002822876, -6.04040002822876, -6.04040002822876, -6.04040002822876, -6.04040002822876, -6.04040002822876, -6.04040002822876, -6.04040002822876, -6.04040002822876, -6.04040002822876, -6.04040002822876, -6.04040002822876, -6.04040002822876, -6.04040002822876, -6.04040002822876, -6.04040002822876, -6.04040002822876, -6.04040002822876, -6.04040002822876, -6.036300182342529, -6.036300182342529, -6.036600112915039, -6.036900043487549, -6.037099838256836, -6.037300109863281, -6.037499904632568, -6.019400119781494, -6.037099838256836, -6.037499904632568, -6.04040002822876, -6.04040002822876, -6.04040002822876, -3.3387999534606934, -3.3387999534606934, -3.3387999534606934, -3.3387999534606934, -3.338900089263916, -3.338900089263916, -5.736700057983398, -5.736700057983398, -5.736700057983398, -5.736700057983398, -5.736700057983398, -5.736700057983398, -5.736700057983398, -5.736700057983398, -5.736700057983398, -5.736700057983398, -5.736700057983398, -5.736700057983398, -5.736700057983398, -5.736700057983398, -5.736700057983398, -5.736700057983398, -5.736700057983398, -5.736700057983398, -5.736700057983398, -5.736700057983398, -5.736700057983398, -5.736700057983398, -5.736700057983398, -5.736700057983398, -5.736700057983398, -5.736700057983398, -5.736700057983398, -5.736700057983398, -5.736700057983398, -5.736700057983398, -5.736700057983398, -5.736700057983398, -5.736700057983398, -5.710999965667725, -5.710999965667725, -5.736700057983398, -5.736700057983398, -5.736700057983398, -5.736700057983398, -5.736700057983398, -5.736700057983398, -5.736700057983398, -5.736700057983398, -5.736700057983398, -5.736700057983398, -5.736700057983398, -5.736700057983398, -5.736700057983398, -5.736700057983398, -5.736700057983398, -5.736700057983398, -5.736700057983398, -5.736700057983398, -5.736700057983398, -5.736700057983398], \"loglift\": [30.0, 29.0, 28.0, 27.0, 26.0, 25.0, 24.0, 23.0, 22.0, 21.0, 20.0, 19.0, 18.0, 17.0, 16.0, 15.0, 14.0, 13.0, 12.0, 11.0, 10.0, 9.0, 8.0, 7.0, 6.0, 5.0, 4.0, 3.0, 2.0, 1.0, 2.0843000411987305, 2.0843000411987305, 2.0843000411987305, 2.0843000411987305, 2.0843000411987305, 2.0843000411987305, 2.0843000411987305, 2.0843000411987305, 2.0843000411987305, 2.0843000411987305, 2.0843000411987305, 2.0843000411987305, 2.0843000411987305, 2.0843000411987305, 2.0843000411987305, 2.0843000411987305, 2.0843000411987305, 2.0843000411987305, 1.3387999534606934, -0.1671999990940094, -0.1671999990940094, -0.1671999990940094, -0.1671999990940094, -0.1671999990940094, -0.1671999990940094, -0.31529998779296875, -0.31529998779296875, -0.31529998779296875, -0.31529998779296875, -0.31529998779296875, -0.31529998779296875, -0.31529998779296875, -0.31529998779296875, -0.31529998779296875, -0.31529998779296875, -0.31529998779296875, -0.31529998779296875, -0.31529998779296875, -0.31529998779296875, -2.903700113296509, -3.112499952316284, -3.112499952316284, -1.905400037765503, -0.36410000920295715, -0.4726000130176544, -0.4726000130176544, -0.36410000920295715, -0.857699990272522, -0.36410000920295715, -0.39719998836517334, 1.6287000179290771, 1.6287000179290771, 1.6287000179290771, 1.6287000179290771, 1.6287000179290771, 1.6287000179290771, 1.6287000179290771, 1.6287000179290771, 1.6287000179290771, 1.6287000179290771, 1.6287000179290771, 1.6287000179290771, 1.6287000179290771, 1.6287000179290771, 1.6287000179290771, 1.6287000179290771, 1.6287000179290771, 1.6287000179290771, 1.6287000179290771, 1.6287000179290771, 1.6287000179290771, 1.6287000179290771, 1.6287000179290771, 1.6287000179290771, 1.6287000179290771, 1.6287000179290771, 1.2282999753952026, 0.46050000190734863, 0.46050000190734863, 0.13359999656677246, 1.221500039100647, 1.221500039100647, 0.9559999704360962, 0.9559999704360962, 0.9559999704360962, 0.9559999704360962, 0.9559999704360962, 0.9559999704360962, 0.9559999704360962, 0.9559999704360962, 0.9559999704360962, 0.9559999704360962, 0.9559999704360962, 0.9559999704360962, 0.9559999704360962, 0.9559999704360962, 0.9559999704360962, 0.9559999704360962, 0.9559999704360962, 0.9559999704360962, 0.9559999704360962, 0.9559999704360962, 0.9559999704360962, 0.9559999704360962, 0.9559999704360962, 0.9559999704360962, 0.9559999704360962, 0.9559999704360962, 0.9559999704360962, 0.9559999704360962, 0.9559999704360962, 0.9559999704360962, 0.9559999704360962, 0.9559999704360962, 0.9559999704360962, 0.9559999704360962, 0.9559999704360962, 0.9559999704360962, 0.9559999704360962, 0.9559999704360962, 0.9559999704360962, 0.9559999704360962, 0.9559999704360962, 0.9559999704360962, 0.9559999704360962, 0.9559999704360962, 1.7551000118255615, 1.7551000118255615, 1.7551000118255615, 1.7551000118255615, 1.7551000118255615, 1.7551000118255615, 1.7551000118255615, 1.7551000118255615, 1.7551000118255615, 1.7551000118255615, 1.7551000118255615, 1.7551000118255615, 1.7551000118255615, 1.7551000118255615, 1.7551000118255615, 1.7551000118255615, 1.7551000118255615, 1.7551000118255615, 1.7551000118255615, 1.7551000118255615, 1.7551000118255615, 1.7551000118255615, 1.7551000118255615, 1.7551000118255615, 1.7551000118255615, 1.7551000118255615, 1.7551000118255615, 1.7551000118255615, 1.2812000513076782, 1.2812000513076782, 0.8802000284194946, 2.0334999561309814, 1.798699975013733, 1.798699975013733, 1.798699975013733, 1.798699975013733, 1.798699975013733, 1.798699975013733, 1.798699975013733, 1.798699975013733, 1.798699975013733, 1.798699975013733, 1.798699975013733, 1.798699975013733, 1.798699975013733, 1.798699975013733, 1.798699975013733, 1.798699975013733, 1.798699975013733, 1.798699975013733, 1.798699975013733, 1.798699975013733, 1.798699975013733, 1.798699975013733, 1.7985999584197998, 1.7985999584197998, 1.3639999628067017, 1.1157000064849854, 0.9160000085830688, -0.3903000056743622, -0.3903000056743622, -0.3903000056743622, -0.3903000056743622, -0.3903000056743622, -0.3903000056743622, -3.132499933242798, -3.335599899291992, 2.1491000652313232, 1.5677000284194946, 1.5677000284194946, 1.5677000284194946, 1.5677000284194946, 1.5677000284194946, 1.5677000284194946, 1.5677000284194946, 1.5677000284194946, 1.5677000284194946, 1.5677000284194946, 1.5677000284194946, 1.5677000284194946, 1.5677000284194946, 1.5677000284194946, 1.5677000284194946, 1.5677000284194946, 1.5677000284194946, 1.5677000284194946, 1.5677000284194946, 1.5677000284194946, -0.6590999960899353, -0.6590999960899353, -0.6590999960899353, -0.6590999960899353, -0.6590999960899353, -0.6590999960899353, -0.8052999973297119, -0.8052999973297119, -0.8054999709129333, -0.8054999709129333, -0.8054999709129333, -0.8054999709129333, -0.8054999709129333, -0.8054999709129333, -0.8054999709129333, -0.8054999709129333, -0.8054999709129333, -0.8054999709129333, -0.8054999709129333, -0.8054999709129333, -0.8054999709129333, -0.8054999709129333, -0.8069999814033508, -0.9638000130653381, -0.888700008392334, -0.8754000067710876, -0.8754000067710876, -0.8754000067710876, -0.8676999807357788, -0.8676999807357788, -0.8557999730110168, 1.926300048828125, 1.926300048828125, 1.926300048828125, 1.926300048828125, 1.926300048828125, 1.926300048828125, 1.926300048828125, 1.926300048828125, 1.926300048828125, 1.926300048828125, 1.926300048828125, 1.926300048828125, 1.9259999990463257, 1.9259999990463257, 1.9259999990463257, 1.9259999990463257, 1.9259999990463257, 1.9258999824523926, 1.9258999824523926, 1.5503000020980835, 1.5501999855041504, 1.444700002670288, 1.031499981880188, -0.27469998598098755, -0.27469998598098755, -0.27469998598098755, -0.27469998598098755, -0.27469998598098755, -0.27469998598098755, -0.421099990606308, -0.421099990606308, -0.421099990606308, -0.421099990606308, -0.421099990606308, -0.421099990606308, -0.421099990606308, -0.421099990606308, -0.421099990606308, -0.421099990606308, -3.0467000007629395, -3.219899892807007, -3.219899892807007, -0.4458000063896179, -0.5045999884605408, 1.6741000413894653, 1.6741000413894653, 1.6741000413894653, 1.6741000413894653, 1.6741000413894653, 1.6741000413894653, 1.6741000413894653, 1.6741000413894653, 1.6741000413894653, 1.6741000413894653, 1.6741000413894653, 1.6741000413894653, 1.6741000413894653, 1.6741000413894653, 1.6741000413894653, 1.6741000413894653, 1.6741000413894653, 1.6741000413894653, 1.6741000413894653, 1.6741000413894653, 1.6741000413894653, 1.6741000413894653, 1.6741000413894653, 1.6741000413894653, 1.6741000413894653, 1.6741000413894653, 1.6741000413894653, 1.6741000413894653, 1.6741000413894653, 1.6741000413894653, 1.6741000413894653, 2.1291000843048096, 2.1291000843048096, 2.1291000843048096, 2.1291000843048096, 2.1291000843048096, 2.1291000843048096, 2.1291000843048096, 2.1291000843048096, 2.1291000843048096, 2.1291000843048096, 2.1291000843048096, 2.1291000843048096, 2.1291000843048096, 2.1291000843048096, 2.128999948501587, 1.7050000429153442, 1.704800009727478, -0.12070000171661377, -0.12070000171661377, -0.12070000171661377, -0.12070000171661377, -0.12070000171661377, -0.12070000171661377, -0.2671000063419342, -0.2671000063419342, -0.2671000063419342, -0.2671000063419342, -0.2671000063419342, -0.2671000063419342, -0.2671000063419342, -0.2671000063419342, -0.2671000063419342, -0.2671000063419342, -0.2671000063419342, -0.2671000063419342, -0.2671000063419342, -0.2671000063419342, -0.2671000063419342, -0.2671000063419342, -0.2671000063419342, -0.2671000063419342, -0.31349998712539673, -0.31349998712539673, -0.31380000710487366, -0.3140999972820282, -0.314300000667572, -0.31450000405311584, -0.31470000743865967, -2.8924999237060547, -1.8555999994277954, -0.7961000204086304, -3.065999984741211, -3.065999984741211, -0.29179999232292175, 2.580899953842163, 2.580899953842163, 2.580899953842163, 2.580899953842163, 2.580899953842163, 2.580899953842163, 0.03660000115633011, 0.03660000115633011, 0.03660000115633011, 0.03660000115633011, 0.03660000115633011, 0.03660000115633011, 0.03660000115633011, 0.03660000115633011, 0.03660000115633011, 0.03660000115633011, 0.03660000115633011, 0.03660000115633011, 0.03660000115633011, 0.03660000115633011, 0.03660000115633011, 0.03660000115633011, 0.03660000115633011, 0.03660000115633011, 0.03480000048875809, 0.03480000048875809, 0.03480000048875809, 0.03480000048875809, 0.03480000048875809, 0.03480000048875809, 0.03480000048875809, 0.03480000048875809, 0.03480000048875809, 0.03480000048875809, 0.03480000048875809, 0.03480000048875809, 0.03480000048875809, 0.03480000048875809, 0.03480000048875809, -2.736599922180176, -2.736599922180176, -2.609800100326538, 0.011900000274181366, -0.02590000070631504, 0.011900000274181366, 0.011900000274181366, 0.011900000274181366, 0.011900000274181366, 0.011900000274181366, -0.03370000049471855, -0.03370000049471855, -1.555299997329712, 0.011900000274181366, -0.014000000432133675, -0.02590000070631504, 0.011900000274181366, -0.04699999839067459, 0.011900000274181366, -0.12250000238418579, -0.04699999839067459, 0.011900000274181366]}, \"token.table\": {\"Topic\": [7, 2, 2, 4, 4, 5, 7, 1, 2, 7, 8, 2, 4, 4, 1, 5, 8, 5, 2, 8, 7, 8, 8, 8, 8, 4, 1, 2, 7, 4, 2, 3, 8, 4, 6, 8, 8, 8, 9, 9, 4, 4, 8, 5, 4, 4, 2, 1, 3, 7, 3, 1, 7, 5, 1, 3, 2, 5, 4, 5, 3, 4, 6, 5, 8, 2, 9, 5, 2, 8, 1, 1, 7, 5, 3, 2, 8, 8, 7, 4, 7, 8, 3, 2, 3, 3, 3, 3, 3, 3, 3, 2, 2, 3, 3, 3, 3, 3, 3, 2, 3, 2, 3, 3, 3, 6, 6, 6, 1, 6, 6, 5, 7, 6, 1, 6, 6, 5, 6, 6, 6, 6, 4, 3, 4, 6, 4, 9, 8, 6, 6, 6, 7, 5, 5, 8, 5, 5, 1, 9, 7, 8, 1, 1, 8, 8, 5, 1, 8, 4, 5, 7, 9, 3, 4, 4, 4, 1, 9, 9, 4, 6, 8, 2, 9, 6, 2, 4, 2, 3, 3, 2, 3, 3, 3, 3, 3, 3, 3, 2, 2, 3, 3, 3, 3, 3, 2, 3, 2, 3, 3, 3, 8, 8, 9, 7, 1, 5, 7, 2, 9, 2, 3, 4, 9, 9, 3, 8, 5, 4, 5, 8, 5, 9, 5, 2, 9, 7, 9, 5, 6, 8, 7, 4, 8, 4, 5, 3, 2, 3, 7, 8, 3, 4, 8, 9, 1, 5, 7, 7, 4, 8, 3, 2, 4, 5, 7, 8, 1, 7, 4, 1, 8, 5], \"Freq\": [0.8992637395858765, 0.8586018681526184, 0.8586018681526184, 0.8817110657691956, 0.8817110657691956, 0.8885628581047058, 0.8992788791656494, 0.9458868503570557, 0.8586018681526184, 0.8992636203765869, 0.8700496554374695, 0.8586018681526184, 0.8817110657691956, 0.8817110061645508, 0.44880184531211853, 0.44880184531211853, 0.44880184531211853, 0.8885628581047058, 0.8586018681526184, 0.8700494766235352, 0.8992636203765869, 0.8700495362281799, 0.8700496554374695, 0.8700496554374695, 0.8700495362281799, 0.8817110061645508, 0.9458869695663452, 0.8586018681526184, 0.8992636203765869, 0.8817110657691956, 0.17274963855743408, 0.8061649799346924, 0.8700496554374695, 0.8817110061645508, 0.9389708042144775, 0.8700495362281799, 0.8700495362281799, 0.8700495362281799, 0.9442369937896729, 0.9442369937896729, 0.8817110657691956, 0.8817110657691956, 0.8700495362281799, 0.8885627388954163, 0.8817110657691956, 0.8817110657691956, 0.8586018681526184, 0.9458869695663452, 0.5556894540786743, 0.5556894540786743, 0.8067930936813354, 0.9458869695663452, 0.8992636203765869, 0.8885628581047058, 0.9458869695663452, 0.8067930936813354, 0.5753129720687866, 0.5753129720687866, 0.8817110657691956, 0.8885628581047058, 0.8067930936813354, 0.8817110061645508, 0.9228049516677856, 0.8885628581047058, 0.8700495362281799, 0.8586018681526184, 0.9442369937896729, 0.5886117219924927, 0.8586018681526184, 0.8700495362281799, 0.9458869695663452, 0.9458869695663452, 0.8992637395858765, 0.8885628581047058, 0.8067930936813354, 0.8586018681526184, 0.8700495362281799, 0.8700495362281799, 0.8992637395858765, 0.8817110657691956, 0.8992636203765869, 0.8700495362281799, 0.8067930936813354, 0.8586018681526184, 0.8067930936813354, 0.8067930936813354, 0.8067930936813354, 0.8067930936813354, 0.8067930936813354, 0.8067930936813354, 0.8067930936813354, 0.8586018681526184, 0.8586018681526184, 0.8067930936813354, 0.8067930936813354, 0.8067930936813354, 0.8067930936813354, 0.8067930936813354, 0.8067930936813354, 0.8586018681526184, 0.8067930936813354, 0.8586018681526184, 0.8067930340766907, 0.8067930936813354, 0.8067930936813354, 0.9228049516677856, 0.9228049516677856, 0.9228049516677856, 0.9458863139152527, 0.9228049516677856, 0.9228049516677856, 0.888563871383667, 0.8992642760276794, 0.9228049516677856, 0.9458863139152527, 0.9228049516677856, 0.9228049516677856, 0.888563871383667, 0.9228049516677856, 0.9228050708770752, 0.9228049516677856, 0.9228049516677856, 0.8817124962806702, 0.8068006634712219, 0.8817124962806702, 0.9228049516677856, 0.8817124962806702, 0.9442364573478699, 0.8700514435768127, 0.9228049516677856, 0.9228048324584961, 0.9228049516677856, 0.8992812633514404, 0.8885628581047058, 0.8885627388954163, 0.8700495362281799, 0.8885628581047058, 0.8885628581047058, 0.9458869695663452, 0.9442369937896729, 0.8992798328399658, 0.8700495362281799, 0.9458869695663452, 0.9458869695663452, 0.8700495362281799, 0.8700496554374695, 0.8885627388954163, 0.9458868503570557, 0.8700495362281799, 0.8817110657691956, 0.8885628581047058, 0.6176118850708008, 0.6176118850708008, 0.5489318370819092, 0.5489318370819092, 0.8817110657691956, 0.8817110061645508, 0.9458869695663452, 0.9442369937896729, 0.9442369937896729, 0.8817110657691956, 0.9228049516677856, 0.8700496554374695, 0.8586018681526184, 0.9442369937896729, 0.9228049516677856, 0.8586018681526184, 0.8817110657691956, 0.17274963855743408, 0.8061649799346924, 0.8067930936813354, 0.8586018681526184, 0.8067930936813354, 0.8067930936813354, 0.8067930936813354, 0.8067930936813354, 0.8067930936813354, 0.8067930936813354, 0.8067930936813354, 0.8586018681526184, 0.8586018681526184, 0.8067930936813354, 0.8067930936813354, 0.8067930936813354, 0.8067930936813354, 0.8067930936813354, 0.8586018681526184, 0.8067930936813354, 0.8586018681526184, 0.8067930936813354, 0.8067930936813354, 0.8067930936813354, 0.8700495362281799, 0.8700496554374695, 0.9442369937896729, 0.899276077747345, 0.9458869695663452, 0.8885628581047058, 0.8992636203765869, 0.8586018681526184, 0.9442369937896729, 0.8586018681526184, 0.5489318370819092, 0.5489318370819092, 0.9442371129989624, 0.9442369937896729, 0.8067930936813354, 0.8700496554374695, 0.8885628581047058, 0.8817110061645508, 0.8885627388954163, 0.8700495362281799, 0.8885628581047058, 0.9442371129989624, 0.8885628581047058, 0.8586018681526184, 0.9442369937896729, 0.6176087260246277, 0.6176087260246277, 0.8885627388954163, 0.9228049516677856, 0.8700496554374695, 0.8992637395858765, 0.8817110657691956, 0.8700495362281799, 0.8817110657691956, 0.8885628581047058, 0.8067930936813354, 0.8586018681526184, 0.8067930936813354, 0.8992814421653748, 0.8700495362281799, 0.8067930936813354, 0.8817110061645508, 0.8700496554374695, 0.9442371129989624, 0.9458869695663452, 0.8885628581047058, 0.8992636203765869, 0.8992779850959778, 0.8817110061645508, 0.8700496554374695, 0.8067930936813354, 0.19253653287887573, 0.19253653287887573, 0.19253653287887573, 0.19253653287887573, 0.19253653287887573, 0.9458869695663452, 0.8992769122123718, 0.8817110061645508, 0.9458869695663452, 0.8700495362281799, 0.8885627388954163], \"Term\": [\"accelerate\", \"adc.</td\", \"amplifier\", \"amplifiers.</td\", \"analysis\", \"applications.</td\", \"architectural\", \"architecture.</td\", \"array\", \"assurance\", \"astable\", \"background\", \"backprojections.</td\", \"bandgap\", \"base\", \"base\", \"base\", \"base</td\", \"beamfoming\", \"blog\\\">blog</a></li\", \"bodyt2\", \"boltzmann\", \"border\", \"bottom\", \"bottom-0\", \"boundary\", \"branch\", \"broadband\", \"bsns.</td\", \"class\", \"class=\\\"blob\", \"class=\\\"blob\", \"class=\\\"border\", \"class=\\\"btn\", \"class=\\\"js\", \"class=\\\"list\", \"class=\\\"mr-3\", \"click=\\\"footer\", \"codepipe\", \"coding.</td\", \"coherence\", \"comparator\", \"complex\", \"compressing\", \"computation\", \"converter\", \"correction\", \"database\", \"databases.</td\", \"databases.</td\", \"deductive\", \"definition\", \"delay\", \"design\", \"detection\", \"deterministic\", \"digital\", \"digital\", \"discrete\", \"display\", \"divider.</td\", \"efficiency\", \"egress\", \"electronic\", \"enable\", \"error\", \"feeding\", \"filter\", \"filters.</td\", \"fluid\", \"formal\", \"formalization\", \"fpga&#39;s.</td\", \"frame\", \"frequency\", \"frustum\", \"geometry\", \"gpus.</td\", \"hardware\", \"hearing\", \"heterogeneous\", \"href=\\\"https://github.blog\", \"id=\\\"l1117\", \"id=\\\"l1129\", \"id=\\\"l1341\", \"id=\\\"l1354\", \"id=\\\"l1662\", \"id=\\\"l1664\", \"id=\\\"l1689\", \"id=\\\"l1828\", \"id=\\\"l1853\", \"id=\\\"l1881\", \"id=\\\"l1964\", \"id=\\\"l2201\", \"id=\\\"l222\", \"id=\\\"l2405\", \"id=\\\"l33\", \"id=\\\"l354\", \"id=\\\"l429\", \"id=\\\"l482\", \"id=\\\"l685\", \"id=\\\"l714\", \"id=\\\"l735\", \"id=\\\"l76\", \"id=\\\"l912\", \"id=\\\"lc1203\", \"id=\\\"lc1236\", \"id=\\\"lc1266\", \"id=\\\"lc1312\", \"id=\\\"lc1341\", \"id=\\\"lc1354\", \"id=\\\"lc1620\", \"id=\\\"lc1707\", \"id=\\\"lc1819\", \"id=\\\"lc1845\", \"id=\\\"lc1884\", \"id=\\\"lc1934\", \"id=\\\"lc208\", \"id=\\\"lc21\", \"id=\\\"lc2101\", \"id=\\\"lc2317\", \"id=\\\"lc2362\", \"id=\\\"lc2382\", \"id=\\\"lc2459\", \"id=\\\"lc398\", \"id=\\\"lc431\", \"id=\\\"lc568\", \"id=\\\"lc579\", \"id=\\\"lc612\", \"id=\\\"lc620\", \"id=\\\"lc738\", \"id=\\\"lc75\", \"image\", \"implementation\", \"incomplete\", \"inductively\", \"information\", \"interferometry\", \"invite\", \"kuramoto\", \"large\", \"lattice\", \"leaf\", \"leboned\", \"lg-0\\\"><a\", \"match\", \"matrix.</td\", \"metadata\", \"method\", \"micropower\", \"minimax\", \"model\", \"model\", \"modelling\", \"modelling\", \"models.</td\", \"mosfet\", \"move\", \"multi\", \"multicast\", \"multicell\", \"multihomed\", \"multivibrator.</td\", \"nest\", \"network\", \"networks.</td\", \"nonlinearity\", \"novel\", \"number\", \"number\", \"number=\\\"1117\\\"></td\", \"number=\\\"1129\\\"></td\", \"number=\\\"1341\\\"></td\", \"number=\\\"1354\\\"></td\", \"number=\\\"1662\\\"></td\", \"number=\\\"1664\\\"></td\", \"number=\\\"1689\\\"></td\", \"number=\\\"1828\\\"></td\", \"number=\\\"1853\\\"></td\", \"number=\\\"1881\\\"></td\", \"number=\\\"1964\\\"></td\", \"number=\\\"222\\\"></td\", \"number=\\\"2405\\\"></td\", \"number=\\\"33\\\"></td\", \"number=\\\"354\\\"></td\", \"number=\\\"429\\\"></td\", \"number=\\\"482\\\"></td\", \"number=\\\"685\\\"></td\", \"number=\\\"714\\\"></td\", \"number=\\\"735\\\"></td\", \"number=\\\"76\\\"></td\", \"number=\\\"912\\\"></td\", \"numerical\", \"ontology\", \"opportunistic\", \"organize\", \"paper).</td\", \"pattern\", \"performance\", \"pipeline\", \"pipelined\", \"planar\", \"power\", \"power\", \"property.</td\", \"protocol\", \"query\", \"rdbms.</td\", \"reconfigurable\", \"reference.</td\", \"relational\", \"relationship\", \"relaxation\", \"reliable\", \"represent\", \"residue\", \"route\", \"scale\", \"scale\", \"search\", \"selection\", \"semantic\", \"shaders\", \"shadow\", \"simulation\", \"spatial\", \"speckle\", \"speed\", \"split\", \"static\", \"statistical\", \"style\", \"sub-1v\", \"summary\", \"supporting\", \"synchronization\", \"system\", \"technique.</td\", \"throughput\", \"topic\", \"truncate\", \"tune\", \"update\", \"using\", \"using\", \"using\", \"using\", \"using\", \"video.</td\", \"visualize\", \"voltage\", \"wavelet\", \"web.</td\", \"zips.</td\"]}, \"R\": 30, \"lambda.step\": 0.01, \"plot.opts\": {\"xlab\": \"PC1\", \"ylab\": \"PC2\"}, \"topic.order\": [1, 2, 3, 4, 5, 6, 7, 8, 9, 10]};\n",
              "\n",
              "function LDAvis_load_lib(url, callback){\n",
              "  var s = document.createElement('script');\n",
              "  s.src = url;\n",
              "  s.async = true;\n",
              "  s.onreadystatechange = s.onload = callback;\n",
              "  s.onerror = function(){console.warn(\"failed to load library \" + url);};\n",
              "  document.getElementsByTagName(\"head\")[0].appendChild(s);\n",
              "}\n",
              "\n",
              "if(typeof(LDAvis) !== \"undefined\"){\n",
              "   // already loaded: just create the visualization\n",
              "   !function(LDAvis){\n",
              "       new LDAvis(\"#\" + \"ldavis_el1221399931568199682517873705\", ldavis_el1221399931568199682517873705_data);\n",
              "   }(LDAvis);\n",
              "}else if(typeof define === \"function\" && define.amd){\n",
              "   // require.js is available: use it to load d3/LDAvis\n",
              "   require.config({paths: {d3: \"https://cdnjs.cloudflare.com/ajax/libs/d3/3.5.5/d3.min\"}});\n",
              "   require([\"d3\"], function(d3){\n",
              "      window.d3 = d3;\n",
              "      LDAvis_load_lib(\"https://cdn.rawgit.com/bmabey/pyLDAvis/files/ldavis.v1.0.0.js\", function(){\n",
              "        new LDAvis(\"#\" + \"ldavis_el1221399931568199682517873705\", ldavis_el1221399931568199682517873705_data);\n",
              "      });\n",
              "    });\n",
              "}else{\n",
              "    // require.js not available: dynamically load d3 & LDAvis\n",
              "    LDAvis_load_lib(\"https://cdnjs.cloudflare.com/ajax/libs/d3/3.5.5/d3.min.js\", function(){\n",
              "         LDAvis_load_lib(\"https://cdn.rawgit.com/bmabey/pyLDAvis/files/ldavis.v1.0.0.js\", function(){\n",
              "                 new LDAvis(\"#\" + \"ldavis_el1221399931568199682517873705\", ldavis_el1221399931568199682517873705_data);\n",
              "            })\n",
              "         });\n",
              "}\n",
              "</script>"
            ],
            "text/plain": [
              "<IPython.core.display.HTML object>"
            ]
          },
          "metadata": {
            "tags": []
          },
          "execution_count": 27
        }
      ]
    }
  ]
}